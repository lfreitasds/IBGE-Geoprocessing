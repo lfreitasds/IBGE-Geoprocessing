{
  "cells": [
    {
      "cell_type": "markdown",
      "metadata": {
        "id": "HssrYdgYW1yL"
      },
      "source": [
        "# **Análise com GeoPandas: Municípios x Unidades de Conservação**"
      ]
    },
    {
      "cell_type": "markdown",
      "metadata": {
        "id": "Oz_RaJMYtgWB"
      },
      "source": [
        "## Instalando GeoPandas"
      ]
    },
    {
      "cell_type": "code",
      "execution_count": 4,
      "metadata": {
        "colab": {
          "base_uri": "https://localhost:8080/",
          "height": 0
        },
        "id": "Fq59U6nVthl0",
        "outputId": "be5587ff-dae5-4e17-c5c2-9012551c7f6a"
      },
      "outputs": [
        {
          "output_type": "stream",
          "name": "stdout",
          "text": [
            "Looking in indexes: https://pypi.org/simple, https://us-python.pkg.dev/colab-wheels/public/simple/\n",
            "Collecting geopandas\n",
            "  Downloading geopandas-0.10.2-py2.py3-none-any.whl (1.0 MB)\n",
            "\u001b[K     |████████████████████████████████| 1.0 MB 8.2 MB/s \n",
            "\u001b[?25hRequirement already satisfied: shapely>=1.6 in /usr/local/lib/python3.7/dist-packages (from geopandas) (1.8.4)\n",
            "Collecting fiona>=1.8\n",
            "  Downloading Fiona-1.8.21-cp37-cp37m-manylinux2014_x86_64.whl (16.7 MB)\n",
            "\u001b[K     |████████████████████████████████| 16.7 MB 74.8 MB/s \n",
            "\u001b[?25hRequirement already satisfied: pandas>=0.25.0 in /usr/local/lib/python3.7/dist-packages (from geopandas) (1.3.5)\n",
            "Collecting pyproj>=2.2.0\n",
            "  Downloading pyproj-3.2.1-cp37-cp37m-manylinux2010_x86_64.whl (6.3 MB)\n",
            "\u001b[K     |████████████████████████████████| 6.3 MB 23.8 MB/s \n",
            "\u001b[?25hCollecting click-plugins>=1.0\n",
            "  Downloading click_plugins-1.1.1-py2.py3-none-any.whl (7.5 kB)\n",
            "Collecting munch\n",
            "  Downloading munch-2.5.0-py2.py3-none-any.whl (10 kB)\n",
            "Requirement already satisfied: setuptools in /usr/local/lib/python3.7/dist-packages (from fiona>=1.8->geopandas) (57.4.0)\n",
            "Collecting cligj>=0.5\n",
            "  Downloading cligj-0.7.2-py3-none-any.whl (7.1 kB)\n",
            "Requirement already satisfied: certifi in /usr/local/lib/python3.7/dist-packages (from fiona>=1.8->geopandas) (2022.6.15)\n",
            "Requirement already satisfied: six>=1.7 in /usr/local/lib/python3.7/dist-packages (from fiona>=1.8->geopandas) (1.15.0)\n",
            "Requirement already satisfied: attrs>=17 in /usr/local/lib/python3.7/dist-packages (from fiona>=1.8->geopandas) (22.1.0)\n",
            "Requirement already satisfied: click>=4.0 in /usr/local/lib/python3.7/dist-packages (from fiona>=1.8->geopandas) (7.1.2)\n",
            "Requirement already satisfied: python-dateutil>=2.7.3 in /usr/local/lib/python3.7/dist-packages (from pandas>=0.25.0->geopandas) (2.8.2)\n",
            "Requirement already satisfied: pytz>=2017.3 in /usr/local/lib/python3.7/dist-packages (from pandas>=0.25.0->geopandas) (2022.2.1)\n",
            "Requirement already satisfied: numpy>=1.17.3 in /usr/local/lib/python3.7/dist-packages (from pandas>=0.25.0->geopandas) (1.21.6)\n",
            "Installing collected packages: munch, cligj, click-plugins, pyproj, fiona, geopandas\n",
            "Successfully installed click-plugins-1.1.1 cligj-0.7.2 fiona-1.8.21 geopandas-0.10.2 munch-2.5.0 pyproj-3.2.1\n"
          ]
        }
      ],
      "source": [
        "!pip install --upgrade geopandas"
      ]
    },
    {
      "cell_type": "markdown",
      "metadata": {
        "id": "qoZoe3mqM2ql"
      },
      "source": [
        "## Importando as Bibliotecas"
      ]
    },
    {
      "cell_type": "code",
      "execution_count": 5,
      "metadata": {
        "id": "if36vl8093JV"
      },
      "outputs": [],
      "source": [
        "import pandas as pd\n",
        "import matplotlib.pyplot as plt\n",
        "import geopandas as gpd\n",
        "import fiona\n",
        "import seaborn as sns"
      ]
    },
    {
      "cell_type": "markdown",
      "metadata": {
        "id": "dfFe6p2utOwD"
      },
      "source": [
        "## Mounting Google Drive"
      ]
    },
    {
      "cell_type": "code",
      "execution_count": 6,
      "metadata": {
        "colab": {
          "base_uri": "https://localhost:8080/",
          "height": 0
        },
        "id": "xEmZayIztQwO",
        "outputId": "0990c0f8-7fe3-4e13-9298-627840b88b84"
      },
      "outputs": [
        {
          "output_type": "stream",
          "name": "stdout",
          "text": [
            "Mounted at /content/drive\n"
          ]
        }
      ],
      "source": [
        "# Load the Drive helper and mount\n",
        "from google.colab import drive \n",
        "\n",
        "# This will prompt for authorization\n",
        "drive.mount('/content/drive')"
      ]
    },
    {
      "cell_type": "markdown",
      "metadata": {
        "id": "qiKZaeFPNA9I"
      },
      "source": [
        "## Carregando os Dados"
      ]
    },
    {
      "cell_type": "code",
      "execution_count": null,
      "metadata": {
        "id": "kZ2u3OqNRKHA"
      },
      "outputs": [],
      "source": [
        "#data_ibge = gpd.read_file( 'data_ibge/BR_Municipios_2021.shp' )\n",
        "#data_icmbio = gpd.read_file( 'data_icmbio/UCsFedAgo2022.shp' )"
      ]
    },
    {
      "cell_type": "code",
      "execution_count": 7,
      "metadata": {
        "id": "kSU_f3CDev9i"
      },
      "outputs": [],
      "source": [
        "data_ibge = gpd.read_file( '/content/drive/MyDrive/repos/_Desafios_Tecnicos/2022-09-01_Geopandas/data_ibge/BR_Municipios_2021.shp' )\n",
        "data_icmbio = gpd.read_file( '/content/drive/MyDrive/repos/_Desafios_Tecnicos/2022-09-01_Geopandas/data_icmbio/UCsFedAgo2022.shp' )"
      ]
    },
    {
      "cell_type": "markdown",
      "metadata": {
        "id": "vqiq6285UaTz"
      },
      "source": [
        "# Descrição dos Dados"
      ]
    },
    {
      "cell_type": "markdown",
      "metadata": {
        "id": "uftUx5I-Ucmy"
      },
      "source": [
        "## Visão Geral dos Dados: IBGE"
      ]
    },
    {
      "cell_type": "code",
      "execution_count": null,
      "metadata": {
        "colab": {
          "base_uri": "https://localhost:8080/",
          "height": 206
        },
        "id": "mjF5nTqIVbNQ",
        "outputId": "cb7a23b2-3080-4dd2-a608-263d65b05c0f"
      },
      "outputs": [
        {
          "data": {
            "text/html": [
              "\n",
              "  <div id=\"df-e73d1b1e-ee23-4747-987b-daa6e2c99728\">\n",
              "    <div class=\"colab-df-container\">\n",
              "      <div>\n",
              "<style scoped>\n",
              "    .dataframe tbody tr th:only-of-type {\n",
              "        vertical-align: middle;\n",
              "    }\n",
              "\n",
              "    .dataframe tbody tr th {\n",
              "        vertical-align: top;\n",
              "    }\n",
              "\n",
              "    .dataframe thead th {\n",
              "        text-align: right;\n",
              "    }\n",
              "</style>\n",
              "<table border=\"1\" class=\"dataframe\">\n",
              "  <thead>\n",
              "    <tr style=\"text-align: right;\">\n",
              "      <th></th>\n",
              "      <th>CD_MUN</th>\n",
              "      <th>NM_MUN</th>\n",
              "      <th>SIGLA</th>\n",
              "      <th>AREA_KM2</th>\n",
              "      <th>geometry</th>\n",
              "      <th>AREA_MUN</th>\n",
              "      <th>REGIAO_MUN</th>\n",
              "    </tr>\n",
              "  </thead>\n",
              "  <tbody>\n",
              "    <tr>\n",
              "      <th>0</th>\n",
              "      <td>1100015</td>\n",
              "      <td>Alta Floresta D'Oeste</td>\n",
              "      <td>RO</td>\n",
              "      <td>7067.127</td>\n",
              "      <td>POLYGON ((-62.19465 -11.82746, -62.19332 -11.8...</td>\n",
              "      <td>0.587657</td>\n",
              "      <td>Norte</td>\n",
              "    </tr>\n",
              "    <tr>\n",
              "      <th>1</th>\n",
              "      <td>1100023</td>\n",
              "      <td>Ariquemes</td>\n",
              "      <td>RO</td>\n",
              "      <td>4426.571</td>\n",
              "      <td>POLYGON ((-62.53648 -9.73222, -62.52765 -9.736...</td>\n",
              "      <td>0.364965</td>\n",
              "      <td>Norte</td>\n",
              "    </tr>\n",
              "    <tr>\n",
              "      <th>2</th>\n",
              "      <td>1100031</td>\n",
              "      <td>Cabixi</td>\n",
              "      <td>RO</td>\n",
              "      <td>1314.352</td>\n",
              "      <td>POLYGON ((-60.37119 -13.36655, -60.37134 -13.3...</td>\n",
              "      <td>0.109724</td>\n",
              "      <td>Norte</td>\n",
              "    </tr>\n",
              "    <tr>\n",
              "      <th>3</th>\n",
              "      <td>1100049</td>\n",
              "      <td>Cacoal</td>\n",
              "      <td>RO</td>\n",
              "      <td>3793.000</td>\n",
              "      <td>POLYGON ((-61.00080 -11.29737, -61.00103 -11.3...</td>\n",
              "      <td>0.314085</td>\n",
              "      <td>Norte</td>\n",
              "    </tr>\n",
              "    <tr>\n",
              "      <th>4</th>\n",
              "      <td>1100056</td>\n",
              "      <td>Cerejeiras</td>\n",
              "      <td>RO</td>\n",
              "      <td>2783.300</td>\n",
              "      <td>POLYGON ((-61.49976 -13.00525, -61.49809 -13.0...</td>\n",
              "      <td>0.232089</td>\n",
              "      <td>Norte</td>\n",
              "    </tr>\n",
              "  </tbody>\n",
              "</table>\n",
              "</div>\n",
              "      <button class=\"colab-df-convert\" onclick=\"convertToInteractive('df-e73d1b1e-ee23-4747-987b-daa6e2c99728')\"\n",
              "              title=\"Convert this dataframe to an interactive table.\"\n",
              "              style=\"display:none;\">\n",
              "        \n",
              "  <svg xmlns=\"http://www.w3.org/2000/svg\" height=\"24px\"viewBox=\"0 0 24 24\"\n",
              "       width=\"24px\">\n",
              "    <path d=\"M0 0h24v24H0V0z\" fill=\"none\"/>\n",
              "    <path d=\"M18.56 5.44l.94 2.06.94-2.06 2.06-.94-2.06-.94-.94-2.06-.94 2.06-2.06.94zm-11 1L8.5 8.5l.94-2.06 2.06-.94-2.06-.94L8.5 2.5l-.94 2.06-2.06.94zm10 10l.94 2.06.94-2.06 2.06-.94-2.06-.94-.94-2.06-.94 2.06-2.06.94z\"/><path d=\"M17.41 7.96l-1.37-1.37c-.4-.4-.92-.59-1.43-.59-.52 0-1.04.2-1.43.59L10.3 9.45l-7.72 7.72c-.78.78-.78 2.05 0 2.83L4 21.41c.39.39.9.59 1.41.59.51 0 1.02-.2 1.41-.59l7.78-7.78 2.81-2.81c.8-.78.8-2.07 0-2.86zM5.41 20L4 18.59l7.72-7.72 1.47 1.35L5.41 20z\"/>\n",
              "  </svg>\n",
              "      </button>\n",
              "      \n",
              "  <style>\n",
              "    .colab-df-container {\n",
              "      display:flex;\n",
              "      flex-wrap:wrap;\n",
              "      gap: 12px;\n",
              "    }\n",
              "\n",
              "    .colab-df-convert {\n",
              "      background-color: #E8F0FE;\n",
              "      border: none;\n",
              "      border-radius: 50%;\n",
              "      cursor: pointer;\n",
              "      display: none;\n",
              "      fill: #1967D2;\n",
              "      height: 32px;\n",
              "      padding: 0 0 0 0;\n",
              "      width: 32px;\n",
              "    }\n",
              "\n",
              "    .colab-df-convert:hover {\n",
              "      background-color: #E2EBFA;\n",
              "      box-shadow: 0px 1px 2px rgba(60, 64, 67, 0.3), 0px 1px 3px 1px rgba(60, 64, 67, 0.15);\n",
              "      fill: #174EA6;\n",
              "    }\n",
              "\n",
              "    [theme=dark] .colab-df-convert {\n",
              "      background-color: #3B4455;\n",
              "      fill: #D2E3FC;\n",
              "    }\n",
              "\n",
              "    [theme=dark] .colab-df-convert:hover {\n",
              "      background-color: #434B5C;\n",
              "      box-shadow: 0px 1px 3px 1px rgba(0, 0, 0, 0.15);\n",
              "      filter: drop-shadow(0px 1px 2px rgba(0, 0, 0, 0.3));\n",
              "      fill: #FFFFFF;\n",
              "    }\n",
              "  </style>\n",
              "\n",
              "      <script>\n",
              "        const buttonEl =\n",
              "          document.querySelector('#df-e73d1b1e-ee23-4747-987b-daa6e2c99728 button.colab-df-convert');\n",
              "        buttonEl.style.display =\n",
              "          google.colab.kernel.accessAllowed ? 'block' : 'none';\n",
              "\n",
              "        async function convertToInteractive(key) {\n",
              "          const element = document.querySelector('#df-e73d1b1e-ee23-4747-987b-daa6e2c99728');\n",
              "          const dataTable =\n",
              "            await google.colab.kernel.invokeFunction('convertToInteractive',\n",
              "                                                     [key], {});\n",
              "          if (!dataTable) return;\n",
              "\n",
              "          const docLinkHtml = 'Like what you see? Visit the ' +\n",
              "            '<a target=\"_blank\" href=https://colab.research.google.com/notebooks/data_table.ipynb>data table notebook</a>'\n",
              "            + ' to learn more about interactive tables.';\n",
              "          element.innerHTML = '';\n",
              "          dataTable['output_type'] = 'display_data';\n",
              "          await google.colab.output.renderOutput(dataTable, element);\n",
              "          const docLink = document.createElement('div');\n",
              "          docLink.innerHTML = docLinkHtml;\n",
              "          element.appendChild(docLink);\n",
              "        }\n",
              "      </script>\n",
              "    </div>\n",
              "  </div>\n",
              "  "
            ],
            "text/plain": [
              "    CD_MUN                 NM_MUN SIGLA  AREA_KM2  \\\n",
              "0  1100015  Alta Floresta D'Oeste    RO  7067.127   \n",
              "1  1100023              Ariquemes    RO  4426.571   \n",
              "2  1100031                 Cabixi    RO  1314.352   \n",
              "3  1100049                 Cacoal    RO  3793.000   \n",
              "4  1100056             Cerejeiras    RO  2783.300   \n",
              "\n",
              "                                            geometry  AREA_MUN REGIAO_MUN  \n",
              "0  POLYGON ((-62.19465 -11.82746, -62.19332 -11.8...  0.587657      Norte  \n",
              "1  POLYGON ((-62.53648 -9.73222, -62.52765 -9.736...  0.364965      Norte  \n",
              "2  POLYGON ((-60.37119 -13.36655, -60.37134 -13.3...  0.109724      Norte  \n",
              "3  POLYGON ((-61.00080 -11.29737, -61.00103 -11.3...  0.314085      Norte  \n",
              "4  POLYGON ((-61.49976 -13.00525, -61.49809 -13.0...  0.232089      Norte  "
            ]
          },
          "execution_count": 39,
          "metadata": {},
          "output_type": "execute_result"
        }
      ],
      "source": [
        "data_ibge.head(5)"
      ]
    },
    {
      "cell_type": "code",
      "execution_count": null,
      "metadata": {
        "colab": {
          "base_uri": "https://localhost:8080/",
          "height": 206
        },
        "id": "KTl0q_pRY-Iz",
        "outputId": "76101087-31c1-4b49-8e4c-fb6901df0c8c"
      },
      "outputs": [
        {
          "data": {
            "text/html": [
              "<div>\n",
              "<style scoped>\n",
              "    .dataframe tbody tr th:only-of-type {\n",
              "        vertical-align: middle;\n",
              "    }\n",
              "\n",
              "    .dataframe tbody tr th {\n",
              "        vertical-align: top;\n",
              "    }\n",
              "\n",
              "    .dataframe thead th {\n",
              "        text-align: right;\n",
              "    }\n",
              "</style>\n",
              "<table border=\"1\" class=\"dataframe\">\n",
              "  <thead>\n",
              "    <tr style=\"text-align: right;\">\n",
              "      <th></th>\n",
              "      <th>CD_MUN</th>\n",
              "      <th>NM_MUN</th>\n",
              "      <th>SIGLA</th>\n",
              "      <th>AREA_KM2</th>\n",
              "      <th>geometry</th>\n",
              "    </tr>\n",
              "  </thead>\n",
              "  <tbody>\n",
              "    <tr>\n",
              "      <th>5567</th>\n",
              "      <td>5222005</td>\n",
              "      <td>Vianópolis</td>\n",
              "      <td>GO</td>\n",
              "      <td>954.115</td>\n",
              "      <td>POLYGON ((-48.42801 -16.62789, -48.42803 -16.6...</td>\n",
              "    </tr>\n",
              "    <tr>\n",
              "      <th>5568</th>\n",
              "      <td>5222054</td>\n",
              "      <td>Vicentinópolis</td>\n",
              "      <td>GO</td>\n",
              "      <td>733.794</td>\n",
              "      <td>POLYGON ((-49.84740 -17.57796, -49.84719 -17.5...</td>\n",
              "    </tr>\n",
              "    <tr>\n",
              "      <th>5569</th>\n",
              "      <td>5222203</td>\n",
              "      <td>Vila Boa</td>\n",
              "      <td>GO</td>\n",
              "      <td>1052.593</td>\n",
              "      <td>POLYGON ((-47.10998 -14.67195, -47.10994 -14.6...</td>\n",
              "    </tr>\n",
              "    <tr>\n",
              "      <th>5570</th>\n",
              "      <td>5222302</td>\n",
              "      <td>Vila Propício</td>\n",
              "      <td>GO</td>\n",
              "      <td>2181.593</td>\n",
              "      <td>POLYGON ((-48.75572 -14.86393, -48.75502 -14.8...</td>\n",
              "    </tr>\n",
              "    <tr>\n",
              "      <th>5571</th>\n",
              "      <td>5300108</td>\n",
              "      <td>Brasília</td>\n",
              "      <td>DF</td>\n",
              "      <td>5760.784</td>\n",
              "      <td>POLYGON ((-47.41734 -15.54655, -47.41720 -15.5...</td>\n",
              "    </tr>\n",
              "  </tbody>\n",
              "</table>\n",
              "</div>"
            ],
            "text/plain": [
              "       CD_MUN          NM_MUN SIGLA  AREA_KM2  \\\n",
              "5567  5222005      Vianópolis    GO   954.115   \n",
              "5568  5222054  Vicentinópolis    GO   733.794   \n",
              "5569  5222203        Vila Boa    GO  1052.593   \n",
              "5570  5222302   Vila Propício    GO  2181.593   \n",
              "5571  5300108        Brasília    DF  5760.784   \n",
              "\n",
              "                                               geometry  \n",
              "5567  POLYGON ((-48.42801 -16.62789, -48.42803 -16.6...  \n",
              "5568  POLYGON ((-49.84740 -17.57796, -49.84719 -17.5...  \n",
              "5569  POLYGON ((-47.10998 -14.67195, -47.10994 -14.6...  \n",
              "5570  POLYGON ((-48.75572 -14.86393, -48.75502 -14.8...  \n",
              "5571  POLYGON ((-47.41734 -15.54655, -47.41720 -15.5...  "
            ]
          },
          "execution_count": 4,
          "metadata": {},
          "output_type": "execute_result"
        }
      ],
      "source": [
        "data_ibge.tail(5)"
      ]
    },
    {
      "cell_type": "code",
      "execution_count": null,
      "metadata": {
        "colab": {
          "base_uri": "https://localhost:8080/"
        },
        "id": "Ec8p_TcuXxSD",
        "outputId": "a5d11aca-7691-4d11-c43a-f3f43fea45ac"
      },
      "outputs": [
        {
          "name": "stdout",
          "output_type": "stream",
          "text": [
            "<class 'geopandas.geodataframe.GeoDataFrame'>\n",
            "RangeIndex: 5572 entries, 0 to 5571\n",
            "Data columns (total 5 columns):\n",
            " #   Column    Non-Null Count  Dtype   \n",
            "---  ------    --------------  -----   \n",
            " 0   CD_MUN    5572 non-null   object  \n",
            " 1   NM_MUN    5572 non-null   object  \n",
            " 2   SIGLA     5572 non-null   object  \n",
            " 3   AREA_KM2  5572 non-null   float64 \n",
            " 4   geometry  5572 non-null   geometry\n",
            "dtypes: float64(1), geometry(1), object(3)\n",
            "memory usage: 217.8+ KB\n"
          ]
        }
      ],
      "source": [
        "data_ibge.info()"
      ]
    },
    {
      "cell_type": "code",
      "execution_count": null,
      "metadata": {
        "colab": {
          "base_uri": "https://localhost:8080/"
        },
        "id": "gL72cMmPYJ0w",
        "outputId": "e72f3571-a741-498e-ea62-bff3baa12bff"
      },
      "outputs": [
        {
          "data": {
            "text/plain": [
              "array([False])"
            ]
          },
          "execution_count": 6,
          "metadata": {},
          "output_type": "execute_result"
        }
      ],
      "source": [
        "data_ibge.duplicated().unique()"
      ]
    },
    {
      "cell_type": "markdown",
      "metadata": {
        "id": "v-X1Y-luUhJ1"
      },
      "source": [
        "### Agrupando Estados por Região"
      ]
    },
    {
      "cell_type": "code",
      "execution_count": 8,
      "metadata": {
        "id": "Kca93CpEZiJb"
      },
      "outputs": [],
      "source": [
        "regiao = {\n",
        "    \"Norte\":['AM', 'PA', 'RR', 'AC', 'RO', 'AP', 'TO'],\n",
        "    \"Sul\":['PR', 'SC', 'RS'],\n",
        "    \"Centro-Oeste\":['MT', 'MS', 'GO', 'DF'],\n",
        "    \"Nordeste\":['BA', 'CE','MA', 'PB', 'PE', 'RN', 'SE', 'AL', 'PI'],\n",
        "    \"Sudeste\":['SP', 'RJ', 'MG','ES'],\n",
        "}\n",
        " \n",
        "for k in regiao:\n",
        "    data_ibge.loc[ data_ibge['SIGLA'].isin(regiao[k]), 'REGIAO_MUN'] = k"
      ]
    },
    {
      "cell_type": "markdown",
      "metadata": {
        "id": "ip_wOMQzUkCR"
      },
      "source": [
        "### Total de Municípios por Região"
      ]
    },
    {
      "cell_type": "code",
      "execution_count": null,
      "metadata": {
        "colab": {
          "base_uri": "https://localhost:8080/"
        },
        "id": "Xqfmj6u3pNJR",
        "outputId": "dabdcc89-6d0d-4e62-8a5f-15884068d665"
      },
      "outputs": [
        {
          "data": {
            "text/plain": [
              "Nordeste        1794\n",
              "Sudeste         1668\n",
              "Sul             1193\n",
              "Centro Oeste     467\n",
              "Norte            450\n",
              "Name: REGIAO_MUN, dtype: int64"
            ]
          },
          "execution_count": 15,
          "metadata": {},
          "output_type": "execute_result"
        }
      ],
      "source": [
        "data_ibge.REGIAO_MUN.value_counts()"
      ]
    },
    {
      "cell_type": "markdown",
      "metadata": {
        "id": "W3V8q1FSrRKH"
      },
      "source": [
        "### Calculando as Áreas dos Municípios"
      ]
    },
    {
      "cell_type": "code",
      "execution_count": 9,
      "metadata": {
        "id": "WQrIRW2krRKO"
      },
      "outputs": [],
      "source": [
        "data_ibge['AREA_MUN'] = 0.0\n",
        "for index, row in data_ibge.iterrows():\n",
        "  polygon_mun = data_ibge.iloc[index].geometry\n",
        "  data_ibge.loc[index, 'AREA_MUN'] = polygon_mun.area"
      ]
    },
    {
      "cell_type": "code",
      "execution_count": null,
      "metadata": {
        "colab": {
          "base_uri": "https://localhost:8080/"
        },
        "id": "mwSTivRAvjwq",
        "outputId": "27ab0842-40a1-4c46-8db7-3f772fd92d6e"
      },
      "outputs": [
        {
          "data": {
            "text/plain": [
              "REGIAO_MUN\n",
              "Norte           314.583135\n",
              "Centro-Oeste    135.436851\n",
              "Nordeste        127.751925\n",
              "Sudeste          79.747299\n",
              "Sul              52.788282\n",
              "Name: AREA_MUN, dtype: float64"
            ]
          },
          "execution_count": 64,
          "metadata": {},
          "output_type": "execute_result"
        }
      ],
      "source": [
        "total_area_mun_reg = data_ibge.groupby(['REGIAO_MUN'])['AREA_MUN'].sum().sort_values(ascending=False)\n",
        "total_area_mun_reg"
      ]
    },
    {
      "cell_type": "code",
      "execution_count": null,
      "metadata": {
        "colab": {
          "base_uri": "https://localhost:8080/"
        },
        "id": "eMwX6RgDkzlu",
        "outputId": "800ed5ff-04a9-427d-8f01-6fbba3f361ee"
      },
      "outputs": [
        {
          "name": "stdout",
          "output_type": "stream",
          "text": [
            "710.3074917490643\n"
          ]
        }
      ],
      "source": [
        "total_area_mun = data_ibge['AREA_MUN'].sum()\n",
        "print(total_area_mun)"
      ]
    },
    {
      "cell_type": "markdown",
      "metadata": {
        "id": "ZJv23AmCrRKS"
      },
      "source": [
        "### Plotando Gráficos Municípios"
      ]
    },
    {
      "cell_type": "code",
      "source": [
        "plt.subplots(figsize=(15,6))\n",
        "\n",
        "plt.subplot( 1, 2, 1 )\n",
        "ax = sns.barplot(x = 'REGIAO_MUN',\n",
        "                   y='AREA_MUN',\n",
        "                   data = data_ibge,\n",
        "                   estimator=sum,\n",
        "                   ci=None,\n",
        "                   order=['Norte','Centro-Oeste','Nordeste','Sudeste','Sul'])\n",
        "\n",
        "plt.title(\"Total Área Municípios por Região\", size=15)\n",
        "plt.xlabel(\"Região\", size=15)\n",
        "plt.ylabel(\"Soma Área Municípios\", size=15)\n",
        "\n",
        "plt.subplot( 1, 2, 2 )\n",
        "ax = sns.countplot(x = 'REGIAO_MUN',\n",
        "              data = data_ibge,\n",
        "              order=['Norte','Centro-Oeste','Nordeste','Sudeste','Sul'])\n",
        "\n",
        "plt.title(\"Total de Municípios por Região\", size=15)\n",
        "plt.xlabel(\"Região\", size=15)\n",
        "plt.ylabel(\"Contagem de Municípios\", size=15)\n",
        "\n",
        "plt.show();"
      ],
      "metadata": {
        "colab": {
          "base_uri": "https://localhost:8080/",
          "height": 414
        },
        "id": "K4LzTEq4wIkp",
        "outputId": "29167d36-cfdc-4250-ac9a-9f3d68108b57"
      },
      "execution_count": 44,
      "outputs": [
        {
          "output_type": "display_data",
          "data": {
            "text/plain": [
              "<Figure size 1080x432 with 2 Axes>"
            ],
            "image/png": "[encoded data removed]"
          },
          "metadata": {
            "needs_background": "light"
          }
        }
      ]
    },
    {
      "cell_type": "markdown",
      "metadata": {
        "id": "a2Y5feTGuXMT"
      },
      "source": [
        "## Visão Geral dos Dados: ICMBio"
      ]
    },
    {
      "cell_type": "code",
      "execution_count": null,
      "metadata": {
        "colab": {
          "base_uri": "https://localhost:8080/",
          "height": 214
        },
        "id": "DTN_MU4ZueS0",
        "outputId": "2c1b4ad9-bb54-46b2-f606-7cdb5d26d44d"
      },
      "outputs": [
        {
          "data": {
            "text/html": [
              "<div>\n",
              "<style scoped>\n",
              "    .dataframe tbody tr th:only-of-type {\n",
              "        vertical-align: middle;\n",
              "    }\n",
              "\n",
              "    .dataframe tbody tr th {\n",
              "        vertical-align: top;\n",
              "    }\n",
              "\n",
              "    .dataframe thead th {\n",
              "        text-align: right;\n",
              "    }\n",
              "</style>\n",
              "<table border=\"1\" class=\"dataframe\">\n",
              "  <thead>\n",
              "    <tr style=\"text-align: right;\">\n",
              "      <th></th>\n",
              "      <th>NomeUC</th>\n",
              "      <th>Cnuc</th>\n",
              "      <th>CriacaoAno</th>\n",
              "      <th>AreaHaAlb</th>\n",
              "      <th>PerimM</th>\n",
              "      <th>CriacaoAto</th>\n",
              "      <th>EsferaAdm</th>\n",
              "      <th>SiglaCateg</th>\n",
              "      <th>GrupoUC</th>\n",
              "      <th>UFAbrang</th>\n",
              "      <th>MunAbrang</th>\n",
              "      <th>BiomaIBGE</th>\n",
              "      <th>BiomaCRL</th>\n",
              "      <th>GRegional</th>\n",
              "      <th>FusoAbrang</th>\n",
              "      <th>Demarcacao</th>\n",
              "      <th>EscalaUC</th>\n",
              "      <th>NGI</th>\n",
              "      <th>geometry</th>\n",
              "    </tr>\n",
              "  </thead>\n",
              "  <tbody>\n",
              "    <tr>\n",
              "      <th>0</th>\n",
              "      <td>RESERVA BIOLÓGICA DE POÇO DAS ANTAS</td>\n",
              "      <td>0000.00.0215</td>\n",
              "      <td>1974</td>\n",
              "      <td>5052.533516</td>\n",
              "      <td>38474.3438</td>\n",
              "      <td>DEC  73.791 de 11/03/1974; DEC  76.534 de 13/1...</td>\n",
              "      <td>Federal</td>\n",
              "      <td>REBIO</td>\n",
              "      <td>PI</td>\n",
              "      <td>RJ</td>\n",
              "      <td>Silva Jardim, Casimiro de Abreu.</td>\n",
              "      <td>MATA ATLÂNTICA</td>\n",
              "      <td>MATA ATLÂNTICA</td>\n",
              "      <td>GR4</td>\n",
              "      <td>23S</td>\n",
              "      <td>Dado não disponível</td>\n",
              "      <td>Dado não disponível</td>\n",
              "      <td>ICMBio Mico-Leão-Dourado</td>\n",
              "      <td>POLYGON ((-42.26621 -22.49977, -42.26611 -22.4...</td>\n",
              "    </tr>\n",
              "  </tbody>\n",
              "</table>\n",
              "</div>"
            ],
            "text/plain": [
              "                                NomeUC          Cnuc CriacaoAno    AreaHaAlb  \\\n",
              "0  RESERVA BIOLÓGICA DE POÇO DAS ANTAS  0000.00.0215       1974  5052.533516   \n",
              "\n",
              "       PerimM                                         CriacaoAto EsferaAdm  \\\n",
              "0  38474.3438  DEC  73.791 de 11/03/1974; DEC  76.534 de 13/1...   Federal   \n",
              "\n",
              "  SiglaCateg GrupoUC UFAbrang                         MunAbrang  \\\n",
              "0      REBIO      PI       RJ  Silva Jardim, Casimiro de Abreu.   \n",
              "\n",
              "        BiomaIBGE        BiomaCRL GRegional FusoAbrang           Demarcacao  \\\n",
              "0  MATA ATLÂNTICA  MATA ATLÂNTICA       GR4        23S  Dado não disponível   \n",
              "\n",
              "              EscalaUC                       NGI  \\\n",
              "0  Dado não disponível  ICMBio Mico-Leão-Dourado   \n",
              "\n",
              "                                            geometry  \n",
              "0  POLYGON ((-42.26621 -22.49977, -42.26611 -22.4...  "
            ]
          },
          "execution_count": 10,
          "metadata": {},
          "output_type": "execute_result"
        }
      ],
      "source": [
        "data_icmbio.head(1)"
      ]
    },
    {
      "cell_type": "code",
      "execution_count": null,
      "metadata": {
        "colab": {
          "base_uri": "https://localhost:8080/",
          "height": 197
        },
        "id": "nkDodT0duikw",
        "outputId": "360f14ca-b301-4a15-f90c-77d1f5ac2672"
      },
      "outputs": [
        {
          "data": {
            "text/html": [
              "<div>\n",
              "<style scoped>\n",
              "    .dataframe tbody tr th:only-of-type {\n",
              "        vertical-align: middle;\n",
              "    }\n",
              "\n",
              "    .dataframe tbody tr th {\n",
              "        vertical-align: top;\n",
              "    }\n",
              "\n",
              "    .dataframe thead th {\n",
              "        text-align: right;\n",
              "    }\n",
              "</style>\n",
              "<table border=\"1\" class=\"dataframe\">\n",
              "  <thead>\n",
              "    <tr style=\"text-align: right;\">\n",
              "      <th></th>\n",
              "      <th>NomeUC</th>\n",
              "      <th>Cnuc</th>\n",
              "      <th>CriacaoAno</th>\n",
              "      <th>AreaHaAlb</th>\n",
              "      <th>PerimM</th>\n",
              "      <th>CriacaoAto</th>\n",
              "      <th>EsferaAdm</th>\n",
              "      <th>SiglaCateg</th>\n",
              "      <th>GrupoUC</th>\n",
              "      <th>UFAbrang</th>\n",
              "      <th>MunAbrang</th>\n",
              "      <th>BiomaIBGE</th>\n",
              "      <th>BiomaCRL</th>\n",
              "      <th>GRegional</th>\n",
              "      <th>FusoAbrang</th>\n",
              "      <th>Demarcacao</th>\n",
              "      <th>EscalaUC</th>\n",
              "      <th>NGI</th>\n",
              "      <th>geometry</th>\n",
              "    </tr>\n",
              "  </thead>\n",
              "  <tbody>\n",
              "    <tr>\n",
              "      <th>333</th>\n",
              "      <td>PARQUE NACIONAL DE BOA NOVA</td>\n",
              "      <td>0000.00.1908</td>\n",
              "      <td>2010</td>\n",
              "      <td>12294.664199</td>\n",
              "      <td>135723.3329</td>\n",
              "      <td>DEC S/N, de 11/06/2010</td>\n",
              "      <td>Federal</td>\n",
              "      <td>PARNA</td>\n",
              "      <td>PI</td>\n",
              "      <td>BA</td>\n",
              "      <td>Boa Nova, Manoel Vitorino, Dário Meira.</td>\n",
              "      <td>MATA ATLÂNTICA</td>\n",
              "      <td>MATA ATLÂNTICA</td>\n",
              "      <td>GR2</td>\n",
              "      <td>24S</td>\n",
              "      <td>Dado não disponível</td>\n",
              "      <td>Dado não disponível</td>\n",
              "      <td>ICMBio Sudoeste Baiano</td>\n",
              "      <td>MULTIPOLYGON (((-40.06617 -14.46432, -40.06596...</td>\n",
              "    </tr>\n",
              "  </tbody>\n",
              "</table>\n",
              "</div>"
            ],
            "text/plain": [
              "                          NomeUC          Cnuc CriacaoAno     AreaHaAlb  \\\n",
              "333  PARQUE NACIONAL DE BOA NOVA  0000.00.1908       2010  12294.664199   \n",
              "\n",
              "          PerimM              CriacaoAto EsferaAdm SiglaCateg GrupoUC  \\\n",
              "333  135723.3329  DEC S/N, de 11/06/2010   Federal      PARNA      PI   \n",
              "\n",
              "    UFAbrang                                MunAbrang       BiomaIBGE  \\\n",
              "333       BA  Boa Nova, Manoel Vitorino, Dário Meira.  MATA ATLÂNTICA   \n",
              "\n",
              "           BiomaCRL GRegional FusoAbrang           Demarcacao  \\\n",
              "333  MATA ATLÂNTICA       GR2        24S  Dado não disponível   \n",
              "\n",
              "                EscalaUC                     NGI  \\\n",
              "333  Dado não disponível  ICMBio Sudoeste Baiano   \n",
              "\n",
              "                                              geometry  \n",
              "333  MULTIPOLYGON (((-40.06617 -14.46432, -40.06596...  "
            ]
          },
          "execution_count": 11,
          "metadata": {},
          "output_type": "execute_result"
        }
      ],
      "source": [
        "data_icmbio.tail(1)"
      ]
    },
    {
      "cell_type": "code",
      "execution_count": null,
      "metadata": {
        "colab": {
          "base_uri": "https://localhost:8080/"
        },
        "id": "Tr8JX0FZuqNn",
        "outputId": "155871d5-141c-48bd-d1e3-6a48d2640430"
      },
      "outputs": [
        {
          "name": "stdout",
          "output_type": "stream",
          "text": [
            "<class 'geopandas.geodataframe.GeoDataFrame'>\n",
            "RangeIndex: 334 entries, 0 to 333\n",
            "Data columns (total 19 columns):\n",
            " #   Column      Non-Null Count  Dtype   \n",
            "---  ------      --------------  -----   \n",
            " 0   NomeUC      334 non-null    object  \n",
            " 1   Cnuc        334 non-null    object  \n",
            " 2   CriacaoAno  334 non-null    object  \n",
            " 3   AreaHaAlb   334 non-null    float64 \n",
            " 4   PerimM      334 non-null    float64 \n",
            " 5   CriacaoAto  334 non-null    object  \n",
            " 6   EsferaAdm   334 non-null    object  \n",
            " 7   SiglaCateg  334 non-null    object  \n",
            " 8   GrupoUC     334 non-null    object  \n",
            " 9   UFAbrang    334 non-null    object  \n",
            " 10  MunAbrang   334 non-null    object  \n",
            " 11  BiomaIBGE   334 non-null    object  \n",
            " 12  BiomaCRL    334 non-null    object  \n",
            " 13  GRegional   334 non-null    object  \n",
            " 14  FusoAbrang  334 non-null    object  \n",
            " 15  Demarcacao  334 non-null    object  \n",
            " 16  EscalaUC    334 non-null    object  \n",
            " 17  NGI         333 non-null    object  \n",
            " 18  geometry    334 non-null    geometry\n",
            "dtypes: float64(2), geometry(1), object(16)\n",
            "memory usage: 49.7+ KB\n"
          ]
        }
      ],
      "source": [
        "data_icmbio.info()"
      ]
    },
    {
      "cell_type": "code",
      "execution_count": null,
      "metadata": {
        "colab": {
          "base_uri": "https://localhost:8080/"
        },
        "id": "x1kVQRi2uurp",
        "outputId": "618a5c49-3441-4a18-9da1-fd8cb7a9ff09"
      },
      "outputs": [
        {
          "data": {
            "text/plain": [
              "array([False])"
            ]
          },
          "execution_count": 58,
          "metadata": {},
          "output_type": "execute_result"
        }
      ],
      "source": [
        "data_icmbio.duplicated().unique()"
      ]
    },
    {
      "cell_type": "markdown",
      "metadata": {
        "id": "psojVvA5uanb"
      },
      "source": [
        "### Agrupando Unidades de Conservação por região"
      ]
    },
    {
      "cell_type": "code",
      "execution_count": 10,
      "metadata": {
        "colab": {
          "base_uri": "https://localhost:8080/",
          "height": 0
        },
        "id": "lA8Byq0uxPOc",
        "outputId": "591bda35-bd96-44e1-f282-e176f182a6e7"
      },
      "outputs": [
        {
          "output_type": "execute_result",
          "data": {
            "text/plain": [
              "array(['RJ', 'SP', 'PR', 'SC', 'RS', 'PA/AP', 'AM', 'RR', 'PA', 'CE',\n",
              "       'TO', 'ES/MG', 'SP/PR', 'AM/RR', 'AP', 'MA', 'PE', 'PI', 'RN',\n",
              "       'AL', 'BA', 'RO', 'MG', 'PB', 'GO', 'ES', 'AC', 'PI/CE/PE',\n",
              "       'MT/GO', 'BA/GO', 'DF', 'SP/PR/MS', 'RJ/SP', 'MA/PI', 'PB/PE',\n",
              "       'BA/MG', 'AC/AM', 'PR/SC', 'BA/SE/AL', 'MG/RJ/SP', 'PI/CE',\n",
              "       'BA/TO', 'MT', 'SE', 'RO/MT/AM', 'SC/RS', 'MG/RJ', 'GO/DF',\n",
              "       'MS/MT', 'PE/AL', 'AM/MT', 'MS/GO', 'MS', 'MA/PI/BA', 'MS/PR',\n",
              "       'PA/AM', 'MA/PI/CE', 'RO/AM', 'AM/RO', 'AM/PA'], dtype=object)"
            ]
          },
          "metadata": {},
          "execution_count": 10
        }
      ],
      "source": [
        "data_icmbio['UFAbrang'].unique()"
      ]
    },
    {
      "cell_type": "code",
      "execution_count": 46,
      "metadata": {
        "id": "Zm-92oJsu7gI"
      },
      "outputs": [],
      "source": [
        "regiao = {\n",
        "    \"Norte\":['AM', 'PA', 'RR', 'AC', 'RO', 'AP', 'TO', 'PA/AP', 'AM/RR', 'AC/AM', 'RO/MT/AM', 'AM/MT', 'PA/AM', 'RO/AM', 'AM/RO', 'AM/PA'],\n",
        "    \"Sul\":['PR', 'SC', 'RS', 'PR/SC', 'SC/RS', 'SP/PR'],\n",
        "    \"Centro-Oeste\":['MT', 'MS', 'GO', 'DF', 'MT/GO', 'BA/GO', 'BA/TO', 'GO/DF', 'MS/MT', 'MS/GO', 'MS/PR', 'SP/PR/MS'],\n",
        "    \"Nordeste\":['BA', 'CE','MA', 'PB', 'PE', 'RN', 'SE', 'AL', 'PI', 'PI/CE/PE', 'MA/PI', 'PB/PE', 'BA/SE/AL', 'PI/CE', 'PE/AL', 'MA/PI/BA', 'MA/PI/CE'],\n",
        "    \"Sudeste\":['SP', 'RJ', 'MG','ES', 'ES/MG', 'RJ/SP', 'BA/MG', 'MG/RJ/SP', 'MG/RJ'],\n",
        "}\n",
        " \n",
        "for k in regiao:\n",
        "    data_icmbio.loc[ data_icmbio['UFAbrang'].isin(regiao[k]), 'REGIAO_UC'] = k"
      ]
    },
    {
      "cell_type": "markdown",
      "metadata": {
        "id": "feawKQKLvLJ0"
      },
      "source": [
        "### Total de Unidades de Conservação por Região"
      ]
    },
    {
      "cell_type": "code",
      "execution_count": null,
      "metadata": {
        "colab": {
          "base_uri": "https://localhost:8080/"
        },
        "id": "i69OEau5rRPT",
        "outputId": "7429b751-bf99-4b8e-b776-3843d9b43fee"
      },
      "outputs": [
        {
          "data": {
            "text/plain": [
              "Norte           126\n",
              "Nordeste         84\n",
              "Sudeste          62\n",
              "Sul              39\n",
              "Centro-Oeste     23\n",
              "Name: REGIAO_UC, dtype: int64"
            ]
          },
          "execution_count": 76,
          "metadata": {},
          "output_type": "execute_result"
        }
      ],
      "source": [
        "data_icmbio.REGIAO_UC.value_counts()"
      ]
    },
    {
      "cell_type": "markdown",
      "metadata": {
        "id": "wfOf8sbArRPW"
      },
      "source": [
        "### Calculando as Áreas das Unidades de Conservação"
      ]
    },
    {
      "cell_type": "code",
      "execution_count": 11,
      "metadata": {
        "id": "lRMTASWlrRPY"
      },
      "outputs": [],
      "source": [
        "data_icmbio['AREA_UC'] = 0.0\n",
        "for index, row in data_icmbio.iterrows():\n",
        "  polygon_uc = data_icmbio.iloc[index].geometry\n",
        "  data_icmbio.loc[index, 'AREA_UC'] = polygon_uc.area"
      ]
    },
    {
      "cell_type": "code",
      "execution_count": null,
      "metadata": {
        "colab": {
          "base_uri": "https://localhost:8080/"
        },
        "id": "0t8-_V3RoWYB",
        "outputId": "9de75694-809d-475d-9ab1-7bc307db6a71"
      },
      "outputs": [
        {
          "data": {
            "text/plain": [
              "REGIAO_UC\n",
              "Nordeste        83.247564\n",
              "Norte           52.469892\n",
              "Centro-Oeste     3.146666\n",
              "Sudeste          2.485248\n",
              "Sul              1.283045\n",
              "Name: AREA_UC, dtype: float64"
            ]
          },
          "execution_count": 78,
          "metadata": {},
          "output_type": "execute_result"
        }
      ],
      "source": [
        "total_area_uc_reg = data_icmbio.groupby(['REGIAO_UC'])['AREA_UC'].sum().sort_values(ascending=False)\n",
        "total_area_uc_reg"
      ]
    },
    {
      "cell_type": "code",
      "execution_count": null,
      "metadata": {
        "colab": {
          "base_uri": "https://localhost:8080/"
        },
        "id": "bZVO3blfoXD4",
        "outputId": "386375ef-c841-4e1c-b039-1b6cc8387cd8"
      },
      "outputs": [
        {
          "name": "stdout",
          "output_type": "stream",
          "text": [
            "142.63241462522083\n"
          ]
        }
      ],
      "source": [
        "total_area_uc = data_icmbio['AREA_UC'].sum()\n",
        "print(total_area_uc)"
      ]
    },
    {
      "cell_type": "markdown",
      "metadata": {
        "id": "5SBiWQftrRQm"
      },
      "source": [
        "### Plotando Gráficos Unidades de Conservação"
      ]
    },
    {
      "cell_type": "code",
      "source": [
        "plt.subplots(figsize=(15,6))\n",
        "\n",
        "plt.subplot( 1, 2, 1 )\n",
        "ax = sns.barplot(x = 'REGIAO_UC',\n",
        "                   y='AREA_UC',\n",
        "                   data = data_icmbio,\n",
        "                   estimator=sum,\n",
        "                   ci=None,\n",
        "                   order=['Norte', 'Nordeste','Sudeste','Sul','Centro-Oeste'])\n",
        "\n",
        "plt.title(\"Total Área Unidades de Conservação por Região\", size=15)\n",
        "plt.xlabel(\"Região\", size=15)\n",
        "plt.ylabel(\"Soma Área Unidades de Conservação\", size=15)\n",
        "\n",
        "\n",
        "plt.subplot( 1, 2, 2 )\n",
        "ax = sns.countplot(x = 'REGIAO_UC',\n",
        "              data = data_icmbio,\n",
        "              order = data_icmbio['REGIAO_UC'].value_counts().index)\n",
        "\n",
        "plt.title(\"Total de Unidades de Conservação por Região\", size=15)\n",
        "plt.xlabel(\"Região\", size=15)\n",
        "plt.ylabel(\"Contagem de Unidades de Conservação\", size=15)\n",
        "\n",
        "plt.show();"
      ],
      "metadata": {
        "colab": {
          "base_uri": "https://localhost:8080/",
          "height": 414
        },
        "id": "tBXFoccdxyf4",
        "outputId": "ccf4800f-3fb7-4795-afbf-a4a21e73cca4"
      },
      "execution_count": 51,
      "outputs": [
        {
          "output_type": "display_data",
          "data": {
            "text/plain": [
              "<Figure size 1080x432 with 2 Axes>"
            ],
            "image/png": "[encoded data removed]"
          },
          "metadata": {
            "needs_background": "light"
          }
        }
      ]
    },
    {
      "cell_type": "markdown",
      "metadata": {
        "id": "6LvB6IYKv9Ew"
      },
      "source": [
        "# Mapa do Brasil e Unidades de Conservação"
      ]
    },
    {
      "cell_type": "code",
      "execution_count": 26,
      "metadata": {
        "colab": {
          "base_uri": "https://localhost:8080/",
          "height": 757
        },
        "id": "yqw7fL9byV_v",
        "outputId": "b2f1dd34-abd1-4c56-e823-6f4918c639d1"
      },
      "outputs": [
        {
          "output_type": "execute_result",
          "data": {
            "text/plain": [
              "<matplotlib.axes._subplots.AxesSubplot at 0x7f0f97b8dd50>"
            ]
          },
          "metadata": {},
          "execution_count": 26
        },
        {
          "output_type": "display_data",
          "data": {
            "text/plain": [
              "<Figure size 1080x1080 with 1 Axes>"
            ],
            "image/png": "[encoded data removed]"
          },
          "metadata": {
            "needs_background": "light"
          }
        }
      ],
      "source": [
        "fig, ax = plt.subplots( figsize=( 15,15 ) )\n",
        "edge_color_opacity = 1 # 0<val<1\n",
        "face_color_opacity = 0.75 # 0<val<1\n",
        "\n",
        "data_icmbio.plot( ax=ax,\n",
        "                 edgecolor=(0, 1, 0, edge_color_opacity),\n",
        "                 facecolor=(0, 1, 0, face_color_opacity))\n",
        "data_ibge.plot( ax=ax, facecolor='None', edgecolor='black',\n",
        "                 lw=0.1 )"
      ]
    },
    {
      "cell_type": "markdown",
      "metadata": {
        "id": "7f7ei8zF2j2S"
      },
      "source": [
        "# Obtendo Sobreposição: Unidades de Conservação x Municípios"
      ]
    },
    {
      "cell_type": "markdown",
      "source": [
        "## Criando um GeoDataFrame de Sobreposição"
      ],
      "metadata": {
        "id": "YtsqV1gSBGkN"
      }
    },
    {
      "cell_type": "code",
      "execution_count": null,
      "metadata": {
        "id": "Rj3376WorRV3",
        "outputId": "3693c8ec-b7eb-4565-e626-8958fb6d8bac"
      },
      "outputs": [
        {
          "name": "stderr",
          "output_type": "stream",
          "text": [
            "C:\\Users\\Leonardo de Freitas\\AppData\\Local\\Temp\\ipykernel_16508\\2491422238.py:1: UserWarning: `keep_geom_type=True` in overlay resulted in 22 dropped geometries of different geometry types than df1 has. Set `keep_geom_type=False` to retain all geometries\n",
            "  data_overlay = gpd.overlay(data_ibge, data_icmbio, how=\"intersection\", make_valid=True)\n"
          ]
        }
      ],
      "source": [
        "#data_overlay = gpd.overlay(data_ibge, data_icmbio, how=\"intersection\", make_valid=True)"
      ]
    },
    {
      "cell_type": "code",
      "execution_count": null,
      "metadata": {
        "id": "LNI5629MrRV9",
        "outputId": "5a8832f9-5681-4fa0-e6c0-51dcbf7627d8"
      },
      "outputs": [
        {
          "data": {
            "text/html": [
              "<div>\n",
              "<style scoped>\n",
              "    .dataframe tbody tr th:only-of-type {\n",
              "        vertical-align: middle;\n",
              "    }\n",
              "\n",
              "    .dataframe tbody tr th {\n",
              "        vertical-align: top;\n",
              "    }\n",
              "\n",
              "    .dataframe thead th {\n",
              "        text-align: right;\n",
              "    }\n",
              "</style>\n",
              "<table border=\"1\" class=\"dataframe\">\n",
              "  <thead>\n",
              "    <tr style=\"text-align: right;\">\n",
              "      <th></th>\n",
              "      <th>CD_MUN</th>\n",
              "      <th>NM_MUN</th>\n",
              "      <th>SIGLA</th>\n",
              "      <th>AREA_KM2</th>\n",
              "      <th>REGIAO_MUN</th>\n",
              "      <th>AREA_MUN</th>\n",
              "      <th>NomeUC</th>\n",
              "      <th>Cnuc</th>\n",
              "      <th>CriacaoAno</th>\n",
              "      <th>AreaHaAlb</th>\n",
              "      <th>...</th>\n",
              "      <th>BiomaIBGE</th>\n",
              "      <th>BiomaCRL</th>\n",
              "      <th>GRegional</th>\n",
              "      <th>FusoAbrang</th>\n",
              "      <th>Demarcacao</th>\n",
              "      <th>EscalaUC</th>\n",
              "      <th>NGI</th>\n",
              "      <th>REGIAO_UC</th>\n",
              "      <th>AREA_UC</th>\n",
              "      <th>geometry</th>\n",
              "    </tr>\n",
              "  </thead>\n",
              "  <tbody>\n",
              "    <tr>\n",
              "      <th>0</th>\n",
              "      <td>1100015</td>\n",
              "      <td>Alta Floresta D'Oeste</td>\n",
              "      <td>RO</td>\n",
              "      <td>7067.127</td>\n",
              "      <td>Norte</td>\n",
              "      <td>0.587657</td>\n",
              "      <td>RESERVA BIOLÓGICA DO GUAPORÉ</td>\n",
              "      <td>0000.00.0206</td>\n",
              "      <td>1982</td>\n",
              "      <td>615776.329425</td>\n",
              "      <td>...</td>\n",
              "      <td>AMAZÔNIA</td>\n",
              "      <td>AMAZÔNIA</td>\n",
              "      <td>GR1</td>\n",
              "      <td>20S</td>\n",
              "      <td>Dado não disponível</td>\n",
              "      <td>Dado não disponível</td>\n",
              "      <td>ICMBio Cautário-Guaporé</td>\n",
              "      <td>Norte</td>\n",
              "      <td>0.512162</td>\n",
              "      <td>MULTIPOLYGON (((-62.61700 -12.86469, -62.61677...</td>\n",
              "    </tr>\n",
              "  </tbody>\n",
              "</table>\n",
              "<p>1 rows × 27 columns</p>\n",
              "</div>"
            ],
            "text/plain": [
              "    CD_MUN                 NM_MUN SIGLA  AREA_KM2 REGIAO_MUN  AREA_MUN  \\\n",
              "0  1100015  Alta Floresta D'Oeste    RO  7067.127      Norte  0.587657   \n",
              "\n",
              "                         NomeUC          Cnuc CriacaoAno      AreaHaAlb  ...  \\\n",
              "0  RESERVA BIOLÓGICA DO GUAPORÉ  0000.00.0206       1982  615776.329425  ...   \n",
              "\n",
              "   BiomaIBGE  BiomaCRL GRegional FusoAbrang           Demarcacao  \\\n",
              "0   AMAZÔNIA  AMAZÔNIA       GR1        20S  Dado não disponível   \n",
              "\n",
              "              EscalaUC                      NGI REGIAO_UC   AREA_UC  \\\n",
              "0  Dado não disponível  ICMBio Cautário-Guaporé     Norte  0.512162   \n",
              "\n",
              "                                            geometry  \n",
              "0  MULTIPOLYGON (((-62.61700 -12.86469, -62.61677...  \n",
              "\n",
              "[1 rows x 27 columns]"
            ]
          },
          "execution_count": 70,
          "metadata": {},
          "output_type": "execute_result"
        }
      ],
      "source": [
        "data_overlay.head(1)"
      ]
    },
    {
      "cell_type": "markdown",
      "metadata": {
        "id": "UINGwB31rRXS"
      },
      "source": [
        "### Salvando o GeoDataFrame de Sobreposição"
      ]
    },
    {
      "cell_type": "code",
      "execution_count": null,
      "metadata": {
        "id": "uP344EDZrRXW"
      },
      "outputs": [],
      "source": [
        "#data_overlay.to_file('data_overlay.geojson', driver='GeoJSON')"
      ]
    },
    {
      "cell_type": "markdown",
      "metadata": {
        "id": "bp7oAVK0rRXi"
      },
      "source": [
        "### Carregando o GeoDataFrame de Sobreposição\n"
      ]
    },
    {
      "cell_type": "code",
      "execution_count": 52,
      "metadata": {
        "id": "llAf1qOcrRXk"
      },
      "outputs": [],
      "source": [
        "#data_overlay = gpd.read_file( 'data_overlay.geojson' )"
      ]
    },
    {
      "cell_type": "code",
      "execution_count": 13,
      "metadata": {
        "id": "ptxShEvAskJj"
      },
      "outputs": [],
      "source": [
        "data_overlay = gpd.read_file( '/content/drive/MyDrive/repos/_Desafios_Tecnicos/2022-09-01_Geopandas/data_overlay.geojson' )"
      ]
    },
    {
      "cell_type": "code",
      "execution_count": null,
      "metadata": {
        "colab": {
          "base_uri": "https://localhost:8080/",
          "height": 226
        },
        "id": "fZZ8BGEPuCrr",
        "outputId": "719b5363-2b01-407d-feea-cd87342fa4dc"
      },
      "outputs": [
        {
          "data": {
            "text/html": [
              "\n",
              "  <div id=\"df-ab3cf8f3-6f79-41bf-90aa-1ff8c91dfa77\">\n",
              "    <div class=\"colab-df-container\">\n",
              "      <div>\n",
              "<style scoped>\n",
              "    .dataframe tbody tr th:only-of-type {\n",
              "        vertical-align: middle;\n",
              "    }\n",
              "\n",
              "    .dataframe tbody tr th {\n",
              "        vertical-align: top;\n",
              "    }\n",
              "\n",
              "    .dataframe thead th {\n",
              "        text-align: right;\n",
              "    }\n",
              "</style>\n",
              "<table border=\"1\" class=\"dataframe\">\n",
              "  <thead>\n",
              "    <tr style=\"text-align: right;\">\n",
              "      <th></th>\n",
              "      <th>CD_MUN</th>\n",
              "      <th>NM_MUN</th>\n",
              "      <th>SIGLA</th>\n",
              "      <th>AREA_KM2</th>\n",
              "      <th>REGIAO_MUN</th>\n",
              "      <th>AREA_MUN</th>\n",
              "      <th>NomeUC</th>\n",
              "      <th>Cnuc</th>\n",
              "      <th>CriacaoAno</th>\n",
              "      <th>AreaHaAlb</th>\n",
              "      <th>...</th>\n",
              "      <th>BiomaIBGE</th>\n",
              "      <th>BiomaCRL</th>\n",
              "      <th>GRegional</th>\n",
              "      <th>FusoAbrang</th>\n",
              "      <th>Demarcacao</th>\n",
              "      <th>EscalaUC</th>\n",
              "      <th>NGI</th>\n",
              "      <th>REGIAO_UC</th>\n",
              "      <th>AREA_UC</th>\n",
              "      <th>geometry</th>\n",
              "    </tr>\n",
              "  </thead>\n",
              "  <tbody>\n",
              "    <tr>\n",
              "      <th>0</th>\n",
              "      <td>1100015</td>\n",
              "      <td>Alta Floresta D'Oeste</td>\n",
              "      <td>RO</td>\n",
              "      <td>7067.127</td>\n",
              "      <td>Norte</td>\n",
              "      <td>0.587657</td>\n",
              "      <td>RESERVA BIOLÓGICA DO GUAPORÉ</td>\n",
              "      <td>0000.00.0206</td>\n",
              "      <td>1982</td>\n",
              "      <td>615776.329425</td>\n",
              "      <td>...</td>\n",
              "      <td>AMAZÔNIA</td>\n",
              "      <td>AMAZÔNIA</td>\n",
              "      <td>GR1</td>\n",
              "      <td>20S</td>\n",
              "      <td>Dado não disponível</td>\n",
              "      <td>Dado não disponível</td>\n",
              "      <td>ICMBio Cautário-Guaporé</td>\n",
              "      <td>Norte</td>\n",
              "      <td>0.512162</td>\n",
              "      <td>MULTIPOLYGON (((-62.61700 -12.86469, -62.61677...</td>\n",
              "    </tr>\n",
              "  </tbody>\n",
              "</table>\n",
              "<p>1 rows × 27 columns</p>\n",
              "</div>\n",
              "      <button class=\"colab-df-convert\" onclick=\"convertToInteractive('df-ab3cf8f3-6f79-41bf-90aa-1ff8c91dfa77')\"\n",
              "              title=\"Convert this dataframe to an interactive table.\"\n",
              "              style=\"display:none;\">\n",
              "        \n",
              "  <svg xmlns=\"http://www.w3.org/2000/svg\" height=\"24px\"viewBox=\"0 0 24 24\"\n",
              "       width=\"24px\">\n",
              "    <path d=\"M0 0h24v24H0V0z\" fill=\"none\"/>\n",
              "    <path d=\"M18.56 5.44l.94 2.06.94-2.06 2.06-.94-2.06-.94-.94-2.06-.94 2.06-2.06.94zm-11 1L8.5 8.5l.94-2.06 2.06-.94-2.06-.94L8.5 2.5l-.94 2.06-2.06.94zm10 10l.94 2.06.94-2.06 2.06-.94-2.06-.94-.94-2.06-.94 2.06-2.06.94z\"/><path d=\"M17.41 7.96l-1.37-1.37c-.4-.4-.92-.59-1.43-.59-.52 0-1.04.2-1.43.59L10.3 9.45l-7.72 7.72c-.78.78-.78 2.05 0 2.83L4 21.41c.39.39.9.59 1.41.59.51 0 1.02-.2 1.41-.59l7.78-7.78 2.81-2.81c.8-.78.8-2.07 0-2.86zM5.41 20L4 18.59l7.72-7.72 1.47 1.35L5.41 20z\"/>\n",
              "  </svg>\n",
              "      </button>\n",
              "      \n",
              "  <style>\n",
              "    .colab-df-container {\n",
              "      display:flex;\n",
              "      flex-wrap:wrap;\n",
              "      gap: 12px;\n",
              "    }\n",
              "\n",
              "    .colab-df-convert {\n",
              "      background-color: #E8F0FE;\n",
              "      border: none;\n",
              "      border-radius: 50%;\n",
              "      cursor: pointer;\n",
              "      display: none;\n",
              "      fill: #1967D2;\n",
              "      height: 32px;\n",
              "      padding: 0 0 0 0;\n",
              "      width: 32px;\n",
              "    }\n",
              "\n",
              "    .colab-df-convert:hover {\n",
              "      background-color: #E2EBFA;\n",
              "      box-shadow: 0px 1px 2px rgba(60, 64, 67, 0.3), 0px 1px 3px 1px rgba(60, 64, 67, 0.15);\n",
              "      fill: #174EA6;\n",
              "    }\n",
              "\n",
              "    [theme=dark] .colab-df-convert {\n",
              "      background-color: #3B4455;\n",
              "      fill: #D2E3FC;\n",
              "    }\n",
              "\n",
              "    [theme=dark] .colab-df-convert:hover {\n",
              "      background-color: #434B5C;\n",
              "      box-shadow: 0px 1px 3px 1px rgba(0, 0, 0, 0.15);\n",
              "      filter: drop-shadow(0px 1px 2px rgba(0, 0, 0, 0.3));\n",
              "      fill: #FFFFFF;\n",
              "    }\n",
              "  </style>\n",
              "\n",
              "      <script>\n",
              "        const buttonEl =\n",
              "          document.querySelector('#df-ab3cf8f3-6f79-41bf-90aa-1ff8c91dfa77 button.colab-df-convert');\n",
              "        buttonEl.style.display =\n",
              "          google.colab.kernel.accessAllowed ? 'block' : 'none';\n",
              "\n",
              "        async function convertToInteractive(key) {\n",
              "          const element = document.querySelector('#df-ab3cf8f3-6f79-41bf-90aa-1ff8c91dfa77');\n",
              "          const dataTable =\n",
              "            await google.colab.kernel.invokeFunction('convertToInteractive',\n",
              "                                                     [key], {});\n",
              "          if (!dataTable) return;\n",
              "\n",
              "          const docLinkHtml = 'Like what you see? Visit the ' +\n",
              "            '<a target=\"_blank\" href=https://colab.research.google.com/notebooks/data_table.ipynb>data table notebook</a>'\n",
              "            + ' to learn more about interactive tables.';\n",
              "          element.innerHTML = '';\n",
              "          dataTable['output_type'] = 'display_data';\n",
              "          await google.colab.output.renderOutput(dataTable, element);\n",
              "          const docLink = document.createElement('div');\n",
              "          docLink.innerHTML = docLinkHtml;\n",
              "          element.appendChild(docLink);\n",
              "        }\n",
              "      </script>\n",
              "    </div>\n",
              "  </div>\n",
              "  "
            ],
            "text/plain": [
              "    CD_MUN                 NM_MUN SIGLA  AREA_KM2 REGIAO_MUN  AREA_MUN  \\\n",
              "0  1100015  Alta Floresta D'Oeste    RO  7067.127      Norte  0.587657   \n",
              "\n",
              "                         NomeUC          Cnuc CriacaoAno      AreaHaAlb  ...  \\\n",
              "0  RESERVA BIOLÓGICA DO GUAPORÉ  0000.00.0206       1982  615776.329425  ...   \n",
              "\n",
              "   BiomaIBGE  BiomaCRL GRegional FusoAbrang           Demarcacao  \\\n",
              "0   AMAZÔNIA  AMAZÔNIA       GR1        20S  Dado não disponível   \n",
              "\n",
              "              EscalaUC                      NGI REGIAO_UC   AREA_UC  \\\n",
              "0  Dado não disponível  ICMBio Cautário-Guaporé     Norte  0.512162   \n",
              "\n",
              "                                            geometry  \n",
              "0  MULTIPOLYGON (((-62.61700 -12.86469, -62.61677...  \n",
              "\n",
              "[1 rows x 27 columns]"
            ]
          },
          "execution_count": 14,
          "metadata": {},
          "output_type": "execute_result"
        }
      ],
      "source": [
        "data_overlay.head(1)"
      ]
    },
    {
      "cell_type": "markdown",
      "metadata": {
        "id": "BcnfQs9krRXn"
      },
      "source": [
        "## Calculando as Áreas de Sobreposição"
      ]
    },
    {
      "cell_type": "code",
      "execution_count": 14,
      "metadata": {
        "colab": {
          "base_uri": "https://localhost:8080/",
          "height": 226
        },
        "id": "SHZonSU-rRXq",
        "outputId": "8db094c0-379f-4bdc-8058-1b11e33a3654"
      },
      "outputs": [
        {
          "output_type": "execute_result",
          "data": {
            "text/plain": [
              "    CD_MUN                 NM_MUN SIGLA  AREA_KM2 REGIAO_MUN  AREA_MUN  \\\n",
              "0  1100015  Alta Floresta D'Oeste    RO  7067.127      Norte  0.587657   \n",
              "\n",
              "                         NomeUC          Cnuc CriacaoAno      AreaHaAlb  ...  \\\n",
              "0  RESERVA BIOLÓGICA DO GUAPORÉ  0000.00.0206       1982  615776.329425  ...   \n",
              "\n",
              "   BiomaCRL GRegional FusoAbrang           Demarcacao             EscalaUC  \\\n",
              "0  AMAZÔNIA       GR1        20S  Dado não disponível  Dado não disponível   \n",
              "\n",
              "                       NGI REGIAO_UC   AREA_UC  \\\n",
              "0  ICMBio Cautário-Guaporé     Norte  0.512162   \n",
              "\n",
              "                                            geometry AREA_SOBREP  \n",
              "0  MULTIPOLYGON (((-62.61700 -12.86469, -62.61677...     0.07972  \n",
              "\n",
              "[1 rows x 28 columns]"
            ],
            "text/html": [
              "\n",
              "  <div id=\"df-217e46a8-d1b0-4df2-b7a3-10f8f73be98f\">\n",
              "    <div class=\"colab-df-container\">\n",
              "      <div>\n",
              "<style scoped>\n",
              "    .dataframe tbody tr th:only-of-type {\n",
              "        vertical-align: middle;\n",
              "    }\n",
              "\n",
              "    .dataframe tbody tr th {\n",
              "        vertical-align: top;\n",
              "    }\n",
              "\n",
              "    .dataframe thead th {\n",
              "        text-align: right;\n",
              "    }\n",
              "</style>\n",
              "<table border=\"1\" class=\"dataframe\">\n",
              "  <thead>\n",
              "    <tr style=\"text-align: right;\">\n",
              "      <th></th>\n",
              "      <th>CD_MUN</th>\n",
              "      <th>NM_MUN</th>\n",
              "      <th>SIGLA</th>\n",
              "      <th>AREA_KM2</th>\n",
              "      <th>REGIAO_MUN</th>\n",
              "      <th>AREA_MUN</th>\n",
              "      <th>NomeUC</th>\n",
              "      <th>Cnuc</th>\n",
              "      <th>CriacaoAno</th>\n",
              "      <th>AreaHaAlb</th>\n",
              "      <th>...</th>\n",
              "      <th>BiomaCRL</th>\n",
              "      <th>GRegional</th>\n",
              "      <th>FusoAbrang</th>\n",
              "      <th>Demarcacao</th>\n",
              "      <th>EscalaUC</th>\n",
              "      <th>NGI</th>\n",
              "      <th>REGIAO_UC</th>\n",
              "      <th>AREA_UC</th>\n",
              "      <th>geometry</th>\n",
              "      <th>AREA_SOBREP</th>\n",
              "    </tr>\n",
              "  </thead>\n",
              "  <tbody>\n",
              "    <tr>\n",
              "      <th>0</th>\n",
              "      <td>1100015</td>\n",
              "      <td>Alta Floresta D'Oeste</td>\n",
              "      <td>RO</td>\n",
              "      <td>7067.127</td>\n",
              "      <td>Norte</td>\n",
              "      <td>0.587657</td>\n",
              "      <td>RESERVA BIOLÓGICA DO GUAPORÉ</td>\n",
              "      <td>0000.00.0206</td>\n",
              "      <td>1982</td>\n",
              "      <td>615776.329425</td>\n",
              "      <td>...</td>\n",
              "      <td>AMAZÔNIA</td>\n",
              "      <td>GR1</td>\n",
              "      <td>20S</td>\n",
              "      <td>Dado não disponível</td>\n",
              "      <td>Dado não disponível</td>\n",
              "      <td>ICMBio Cautário-Guaporé</td>\n",
              "      <td>Norte</td>\n",
              "      <td>0.512162</td>\n",
              "      <td>MULTIPOLYGON (((-62.61700 -12.86469, -62.61677...</td>\n",
              "      <td>0.07972</td>\n",
              "    </tr>\n",
              "  </tbody>\n",
              "</table>\n",
              "<p>1 rows × 28 columns</p>\n",
              "</div>\n",
              "      <button class=\"colab-df-convert\" onclick=\"convertToInteractive('df-217e46a8-d1b0-4df2-b7a3-10f8f73be98f')\"\n",
              "              title=\"Convert this dataframe to an interactive table.\"\n",
              "              style=\"display:none;\">\n",
              "        \n",
              "  <svg xmlns=\"http://www.w3.org/2000/svg\" height=\"24px\"viewBox=\"0 0 24 24\"\n",
              "       width=\"24px\">\n",
              "    <path d=\"M0 0h24v24H0V0z\" fill=\"none\"/>\n",
              "    <path d=\"M18.56 5.44l.94 2.06.94-2.06 2.06-.94-2.06-.94-.94-2.06-.94 2.06-2.06.94zm-11 1L8.5 8.5l.94-2.06 2.06-.94-2.06-.94L8.5 2.5l-.94 2.06-2.06.94zm10 10l.94 2.06.94-2.06 2.06-.94-2.06-.94-.94-2.06-.94 2.06-2.06.94z\"/><path d=\"M17.41 7.96l-1.37-1.37c-.4-.4-.92-.59-1.43-.59-.52 0-1.04.2-1.43.59L10.3 9.45l-7.72 7.72c-.78.78-.78 2.05 0 2.83L4 21.41c.39.39.9.59 1.41.59.51 0 1.02-.2 1.41-.59l7.78-7.78 2.81-2.81c.8-.78.8-2.07 0-2.86zM5.41 20L4 18.59l7.72-7.72 1.47 1.35L5.41 20z\"/>\n",
              "  </svg>\n",
              "      </button>\n",
              "      \n",
              "  <style>\n",
              "    .colab-df-container {\n",
              "      display:flex;\n",
              "      flex-wrap:wrap;\n",
              "      gap: 12px;\n",
              "    }\n",
              "\n",
              "    .colab-df-convert {\n",
              "      background-color: #E8F0FE;\n",
              "      border: none;\n",
              "      border-radius: 50%;\n",
              "      cursor: pointer;\n",
              "      display: none;\n",
              "      fill: #1967D2;\n",
              "      height: 32px;\n",
              "      padding: 0 0 0 0;\n",
              "      width: 32px;\n",
              "    }\n",
              "\n",
              "    .colab-df-convert:hover {\n",
              "      background-color: #E2EBFA;\n",
              "      box-shadow: 0px 1px 2px rgba(60, 64, 67, 0.3), 0px 1px 3px 1px rgba(60, 64, 67, 0.15);\n",
              "      fill: #174EA6;\n",
              "    }\n",
              "\n",
              "    [theme=dark] .colab-df-convert {\n",
              "      background-color: #3B4455;\n",
              "      fill: #D2E3FC;\n",
              "    }\n",
              "\n",
              "    [theme=dark] .colab-df-convert:hover {\n",
              "      background-color: #434B5C;\n",
              "      box-shadow: 0px 1px 3px 1px rgba(0, 0, 0, 0.15);\n",
              "      filter: drop-shadow(0px 1px 2px rgba(0, 0, 0, 0.3));\n",
              "      fill: #FFFFFF;\n",
              "    }\n",
              "  </style>\n",
              "\n",
              "      <script>\n",
              "        const buttonEl =\n",
              "          document.querySelector('#df-217e46a8-d1b0-4df2-b7a3-10f8f73be98f button.colab-df-convert');\n",
              "        buttonEl.style.display =\n",
              "          google.colab.kernel.accessAllowed ? 'block' : 'none';\n",
              "\n",
              "        async function convertToInteractive(key) {\n",
              "          const element = document.querySelector('#df-217e46a8-d1b0-4df2-b7a3-10f8f73be98f');\n",
              "          const dataTable =\n",
              "            await google.colab.kernel.invokeFunction('convertToInteractive',\n",
              "                                                     [key], {});\n",
              "          if (!dataTable) return;\n",
              "\n",
              "          const docLinkHtml = 'Like what you see? Visit the ' +\n",
              "            '<a target=\"_blank\" href=https://colab.research.google.com/notebooks/data_table.ipynb>data table notebook</a>'\n",
              "            + ' to learn more about interactive tables.';\n",
              "          element.innerHTML = '';\n",
              "          dataTable['output_type'] = 'display_data';\n",
              "          await google.colab.output.renderOutput(dataTable, element);\n",
              "          const docLink = document.createElement('div');\n",
              "          docLink.innerHTML = docLinkHtml;\n",
              "          element.appendChild(docLink);\n",
              "        }\n",
              "      </script>\n",
              "    </div>\n",
              "  </div>\n",
              "  "
            ]
          },
          "metadata": {},
          "execution_count": 14
        }
      ],
      "source": [
        "df1 = data_overlay.copy()\n",
        "\n",
        "df1['AREA_SOBREP'] = 0.0\n",
        "for index, row in df1.iterrows():\n",
        "  polygon_over = df1.iloc[index].geometry\n",
        "  df1.loc[index, 'AREA_SOBREP'] = polygon_over.area\n",
        "\n",
        "df1.head(1)"
      ]
    },
    {
      "cell_type": "code",
      "execution_count": null,
      "metadata": {
        "colab": {
          "base_uri": "https://localhost:8080/",
          "height": 206
        },
        "id": "_IcMpoX2ke1N",
        "outputId": "7695ee14-ef57-4017-aa42-16d37fb552f4"
      },
      "outputs": [
        {
          "data": {
            "text/html": [
              "\n",
              "  <div id=\"df-c8db7805-c305-4065-82e1-6be6f6626140\">\n",
              "    <div class=\"colab-df-container\">\n",
              "      <div>\n",
              "<style scoped>\n",
              "    .dataframe tbody tr th:only-of-type {\n",
              "        vertical-align: middle;\n",
              "    }\n",
              "\n",
              "    .dataframe tbody tr th {\n",
              "        vertical-align: top;\n",
              "    }\n",
              "\n",
              "    .dataframe thead th {\n",
              "        text-align: right;\n",
              "    }\n",
              "</style>\n",
              "<table border=\"1\" class=\"dataframe\">\n",
              "  <thead>\n",
              "    <tr style=\"text-align: right;\">\n",
              "      <th></th>\n",
              "      <th>REGIAO_MUN</th>\n",
              "      <th>AREA_SOBREP</th>\n",
              "    </tr>\n",
              "  </thead>\n",
              "  <tbody>\n",
              "    <tr>\n",
              "      <th>2</th>\n",
              "      <td>Norte</td>\n",
              "      <td>51.879316</td>\n",
              "    </tr>\n",
              "    <tr>\n",
              "      <th>1</th>\n",
              "      <td>Nordeste</td>\n",
              "      <td>6.134759</td>\n",
              "    </tr>\n",
              "    <tr>\n",
              "      <th>0</th>\n",
              "      <td>Centro-Oeste</td>\n",
              "      <td>3.202589</td>\n",
              "    </tr>\n",
              "    <tr>\n",
              "      <th>3</th>\n",
              "      <td>Sudeste</td>\n",
              "      <td>2.162304</td>\n",
              "    </tr>\n",
              "    <tr>\n",
              "      <th>4</th>\n",
              "      <td>Sul</td>\n",
              "      <td>1.450513</td>\n",
              "    </tr>\n",
              "  </tbody>\n",
              "</table>\n",
              "</div>\n",
              "      <button class=\"colab-df-convert\" onclick=\"convertToInteractive('df-c8db7805-c305-4065-82e1-6be6f6626140')\"\n",
              "              title=\"Convert this dataframe to an interactive table.\"\n",
              "              style=\"display:none;\">\n",
              "        \n",
              "  <svg xmlns=\"http://www.w3.org/2000/svg\" height=\"24px\"viewBox=\"0 0 24 24\"\n",
              "       width=\"24px\">\n",
              "    <path d=\"M0 0h24v24H0V0z\" fill=\"none\"/>\n",
              "    <path d=\"M18.56 5.44l.94 2.06.94-2.06 2.06-.94-2.06-.94-.94-2.06-.94 2.06-2.06.94zm-11 1L8.5 8.5l.94-2.06 2.06-.94-2.06-.94L8.5 2.5l-.94 2.06-2.06.94zm10 10l.94 2.06.94-2.06 2.06-.94-2.06-.94-.94-2.06-.94 2.06-2.06.94z\"/><path d=\"M17.41 7.96l-1.37-1.37c-.4-.4-.92-.59-1.43-.59-.52 0-1.04.2-1.43.59L10.3 9.45l-7.72 7.72c-.78.78-.78 2.05 0 2.83L4 21.41c.39.39.9.59 1.41.59.51 0 1.02-.2 1.41-.59l7.78-7.78 2.81-2.81c.8-.78.8-2.07 0-2.86zM5.41 20L4 18.59l7.72-7.72 1.47 1.35L5.41 20z\"/>\n",
              "  </svg>\n",
              "      </button>\n",
              "      \n",
              "  <style>\n",
              "    .colab-df-container {\n",
              "      display:flex;\n",
              "      flex-wrap:wrap;\n",
              "      gap: 12px;\n",
              "    }\n",
              "\n",
              "    .colab-df-convert {\n",
              "      background-color: #E8F0FE;\n",
              "      border: none;\n",
              "      border-radius: 50%;\n",
              "      cursor: pointer;\n",
              "      display: none;\n",
              "      fill: #1967D2;\n",
              "      height: 32px;\n",
              "      padding: 0 0 0 0;\n",
              "      width: 32px;\n",
              "    }\n",
              "\n",
              "    .colab-df-convert:hover {\n",
              "      background-color: #E2EBFA;\n",
              "      box-shadow: 0px 1px 2px rgba(60, 64, 67, 0.3), 0px 1px 3px 1px rgba(60, 64, 67, 0.15);\n",
              "      fill: #174EA6;\n",
              "    }\n",
              "\n",
              "    [theme=dark] .colab-df-convert {\n",
              "      background-color: #3B4455;\n",
              "      fill: #D2E3FC;\n",
              "    }\n",
              "\n",
              "    [theme=dark] .colab-df-convert:hover {\n",
              "      background-color: #434B5C;\n",
              "      box-shadow: 0px 1px 3px 1px rgba(0, 0, 0, 0.15);\n",
              "      filter: drop-shadow(0px 1px 2px rgba(0, 0, 0, 0.3));\n",
              "      fill: #FFFFFF;\n",
              "    }\n",
              "  </style>\n",
              "\n",
              "      <script>\n",
              "        const buttonEl =\n",
              "          document.querySelector('#df-c8db7805-c305-4065-82e1-6be6f6626140 button.colab-df-convert');\n",
              "        buttonEl.style.display =\n",
              "          google.colab.kernel.accessAllowed ? 'block' : 'none';\n",
              "\n",
              "        async function convertToInteractive(key) {\n",
              "          const element = document.querySelector('#df-c8db7805-c305-4065-82e1-6be6f6626140');\n",
              "          const dataTable =\n",
              "            await google.colab.kernel.invokeFunction('convertToInteractive',\n",
              "                                                     [key], {});\n",
              "          if (!dataTable) return;\n",
              "\n",
              "          const docLinkHtml = 'Like what you see? Visit the ' +\n",
              "            '<a target=\"_blank\" href=https://colab.research.google.com/notebooks/data_table.ipynb>data table notebook</a>'\n",
              "            + ' to learn more about interactive tables.';\n",
              "          element.innerHTML = '';\n",
              "          dataTable['output_type'] = 'display_data';\n",
              "          await google.colab.output.renderOutput(dataTable, element);\n",
              "          const docLink = document.createElement('div');\n",
              "          docLink.innerHTML = docLinkHtml;\n",
              "          element.appendChild(docLink);\n",
              "        }\n",
              "      </script>\n",
              "    </div>\n",
              "  </div>\n",
              "  "
            ],
            "text/plain": [
              "     REGIAO_MUN  AREA_SOBREP\n",
              "2         Norte    51.879316\n",
              "1      Nordeste     6.134759\n",
              "0  Centro-Oeste     3.202589\n",
              "3       Sudeste     2.162304\n",
              "4           Sul     1.450513"
            ]
          },
          "execution_count": 54,
          "metadata": {},
          "output_type": "execute_result"
        }
      ],
      "source": [
        "total_area_sobrep = df1.groupby(['REGIAO_MUN'])['AREA_SOBREP'].sum().reset_index()\n",
        "total_area_sobrep.sort_values(by='AREA_SOBREP', ascending=False)"
      ]
    },
    {
      "cell_type": "code",
      "execution_count": null,
      "metadata": {
        "colab": {
          "base_uri": "https://localhost:8080/"
        },
        "id": "Osg5LedvrRX1",
        "outputId": "dc3cd525-061a-41cb-9e23-9901f994b812"
      },
      "outputs": [
        {
          "name": "stdout",
          "output_type": "stream",
          "text": [
            "64.82948077128673\n"
          ]
        }
      ],
      "source": [
        "# Calculando a Área Total de Sobreposição\n",
        "total_area_over = df1['AREA_SOBREP'].sum()\n",
        "print(total_area_over)"
      ]
    },
    {
      "cell_type": "markdown",
      "source": [
        "## Selecionando colunas"
      ],
      "metadata": {
        "id": "Cc0UtNql_jxk"
      }
    },
    {
      "cell_type": "code",
      "execution_count": 15,
      "metadata": {
        "colab": {
          "base_uri": "https://localhost:8080/",
          "height": 142
        },
        "id": "le0T3VGyrRX7",
        "outputId": "3fc70487-b3e6-4cbc-e6fe-9b2f7104650c"
      },
      "outputs": [
        {
          "output_type": "execute_result",
          "data": {
            "text/plain": [
              "    CD_MUN                 NM_MUN SIGLA REGIAO_MUN  AREA_MUN          Cnuc  \\\n",
              "0  1100015  Alta Floresta D'Oeste    RO      Norte  0.587657  0000.00.0206   \n",
              "\n",
              "                         NomeUC REGIAO_UC   AREA_UC  AREA_SOBREP  \n",
              "0  RESERVA BIOLÓGICA DO GUAPORÉ     Norte  0.512162      0.07972  "
            ],
            "text/html": [
              "\n",
              "  <div id=\"df-f3814981-b6bf-42fd-a9ff-e8324316c111\">\n",
              "    <div class=\"colab-df-container\">\n",
              "      <div>\n",
              "<style scoped>\n",
              "    .dataframe tbody tr th:only-of-type {\n",
              "        vertical-align: middle;\n",
              "    }\n",
              "\n",
              "    .dataframe tbody tr th {\n",
              "        vertical-align: top;\n",
              "    }\n",
              "\n",
              "    .dataframe thead th {\n",
              "        text-align: right;\n",
              "    }\n",
              "</style>\n",
              "<table border=\"1\" class=\"dataframe\">\n",
              "  <thead>\n",
              "    <tr style=\"text-align: right;\">\n",
              "      <th></th>\n",
              "      <th>CD_MUN</th>\n",
              "      <th>NM_MUN</th>\n",
              "      <th>SIGLA</th>\n",
              "      <th>REGIAO_MUN</th>\n",
              "      <th>AREA_MUN</th>\n",
              "      <th>Cnuc</th>\n",
              "      <th>NomeUC</th>\n",
              "      <th>REGIAO_UC</th>\n",
              "      <th>AREA_UC</th>\n",
              "      <th>AREA_SOBREP</th>\n",
              "    </tr>\n",
              "  </thead>\n",
              "  <tbody>\n",
              "    <tr>\n",
              "      <th>0</th>\n",
              "      <td>1100015</td>\n",
              "      <td>Alta Floresta D'Oeste</td>\n",
              "      <td>RO</td>\n",
              "      <td>Norte</td>\n",
              "      <td>0.587657</td>\n",
              "      <td>0000.00.0206</td>\n",
              "      <td>RESERVA BIOLÓGICA DO GUAPORÉ</td>\n",
              "      <td>Norte</td>\n",
              "      <td>0.512162</td>\n",
              "      <td>0.07972</td>\n",
              "    </tr>\n",
              "  </tbody>\n",
              "</table>\n",
              "</div>\n",
              "      <button class=\"colab-df-convert\" onclick=\"convertToInteractive('df-f3814981-b6bf-42fd-a9ff-e8324316c111')\"\n",
              "              title=\"Convert this dataframe to an interactive table.\"\n",
              "              style=\"display:none;\">\n",
              "        \n",
              "  <svg xmlns=\"http://www.w3.org/2000/svg\" height=\"24px\"viewBox=\"0 0 24 24\"\n",
              "       width=\"24px\">\n",
              "    <path d=\"M0 0h24v24H0V0z\" fill=\"none\"/>\n",
              "    <path d=\"M18.56 5.44l.94 2.06.94-2.06 2.06-.94-2.06-.94-.94-2.06-.94 2.06-2.06.94zm-11 1L8.5 8.5l.94-2.06 2.06-.94-2.06-.94L8.5 2.5l-.94 2.06-2.06.94zm10 10l.94 2.06.94-2.06 2.06-.94-2.06-.94-.94-2.06-.94 2.06-2.06.94z\"/><path d=\"M17.41 7.96l-1.37-1.37c-.4-.4-.92-.59-1.43-.59-.52 0-1.04.2-1.43.59L10.3 9.45l-7.72 7.72c-.78.78-.78 2.05 0 2.83L4 21.41c.39.39.9.59 1.41.59.51 0 1.02-.2 1.41-.59l7.78-7.78 2.81-2.81c.8-.78.8-2.07 0-2.86zM5.41 20L4 18.59l7.72-7.72 1.47 1.35L5.41 20z\"/>\n",
              "  </svg>\n",
              "      </button>\n",
              "      \n",
              "  <style>\n",
              "    .colab-df-container {\n",
              "      display:flex;\n",
              "      flex-wrap:wrap;\n",
              "      gap: 12px;\n",
              "    }\n",
              "\n",
              "    .colab-df-convert {\n",
              "      background-color: #E8F0FE;\n",
              "      border: none;\n",
              "      border-radius: 50%;\n",
              "      cursor: pointer;\n",
              "      display: none;\n",
              "      fill: #1967D2;\n",
              "      height: 32px;\n",
              "      padding: 0 0 0 0;\n",
              "      width: 32px;\n",
              "    }\n",
              "\n",
              "    .colab-df-convert:hover {\n",
              "      background-color: #E2EBFA;\n",
              "      box-shadow: 0px 1px 2px rgba(60, 64, 67, 0.3), 0px 1px 3px 1px rgba(60, 64, 67, 0.15);\n",
              "      fill: #174EA6;\n",
              "    }\n",
              "\n",
              "    [theme=dark] .colab-df-convert {\n",
              "      background-color: #3B4455;\n",
              "      fill: #D2E3FC;\n",
              "    }\n",
              "\n",
              "    [theme=dark] .colab-df-convert:hover {\n",
              "      background-color: #434B5C;\n",
              "      box-shadow: 0px 1px 3px 1px rgba(0, 0, 0, 0.15);\n",
              "      filter: drop-shadow(0px 1px 2px rgba(0, 0, 0, 0.3));\n",
              "      fill: #FFFFFF;\n",
              "    }\n",
              "  </style>\n",
              "\n",
              "      <script>\n",
              "        const buttonEl =\n",
              "          document.querySelector('#df-f3814981-b6bf-42fd-a9ff-e8324316c111 button.colab-df-convert');\n",
              "        buttonEl.style.display =\n",
              "          google.colab.kernel.accessAllowed ? 'block' : 'none';\n",
              "\n",
              "        async function convertToInteractive(key) {\n",
              "          const element = document.querySelector('#df-f3814981-b6bf-42fd-a9ff-e8324316c111');\n",
              "          const dataTable =\n",
              "            await google.colab.kernel.invokeFunction('convertToInteractive',\n",
              "                                                     [key], {});\n",
              "          if (!dataTable) return;\n",
              "\n",
              "          const docLinkHtml = 'Like what you see? Visit the ' +\n",
              "            '<a target=\"_blank\" href=https://colab.research.google.com/notebooks/data_table.ipynb>data table notebook</a>'\n",
              "            + ' to learn more about interactive tables.';\n",
              "          element.innerHTML = '';\n",
              "          dataTable['output_type'] = 'display_data';\n",
              "          await google.colab.output.renderOutput(dataTable, element);\n",
              "          const docLink = document.createElement('div');\n",
              "          docLink.innerHTML = docLinkHtml;\n",
              "          element.appendChild(docLink);\n",
              "        }\n",
              "      </script>\n",
              "    </div>\n",
              "  </div>\n",
              "  "
            ]
          },
          "metadata": {},
          "execution_count": 15
        }
      ],
      "source": [
        "column_list = [\n",
        "  'CD_MUN',\n",
        " 'NM_MUN',\n",
        " 'SIGLA',\n",
        " 'REGIAO_MUN',\n",
        " 'AREA_MUN',\n",
        " 'Cnuc',\n",
        " 'NomeUC',\n",
        " 'REGIAO_UC',\n",
        " 'AREA_UC',\n",
        " 'AREA_SOBREP',\n",
        " ]\n",
        "\n",
        "df2 = df1[column_list]\n",
        "df2.head(1)"
      ]
    },
    {
      "cell_type": "markdown",
      "metadata": {
        "id": "T98GqKiqrRX4"
      },
      "source": [
        "## Calculando a Porcentagem de Área de Sobreposição para cada Unidade de Conservação"
      ]
    },
    {
      "cell_type": "code",
      "execution_count": 16,
      "metadata": {
        "colab": {
          "base_uri": "https://localhost:8080/",
          "height": 159
        },
        "id": "mvqA1e4frRX_",
        "outputId": "fbad4557-dacf-48e8-b247-387d9c0f7f02"
      },
      "outputs": [
        {
          "output_type": "execute_result",
          "data": {
            "text/plain": [
              "    CD_MUN                 NM_MUN SIGLA REGIAO_MUN  AREA_MUN          Cnuc  \\\n",
              "0  1100015  Alta Floresta D'Oeste    RO      Norte  0.587657  0000.00.0206   \n",
              "\n",
              "                         NomeUC REGIAO_UC   AREA_UC  AREA_SOBREP  PERC_SOBREP  \n",
              "0  RESERVA BIOLÓGICA DO GUAPORÉ     Norte  0.512162      0.07972     0.135657  "
            ],
            "text/html": [
              "\n",
              "  <div id=\"df-d7f573aa-937b-404f-ace4-02f38a13fa94\">\n",
              "    <div class=\"colab-df-container\">\n",
              "      <div>\n",
              "<style scoped>\n",
              "    .dataframe tbody tr th:only-of-type {\n",
              "        vertical-align: middle;\n",
              "    }\n",
              "\n",
              "    .dataframe tbody tr th {\n",
              "        vertical-align: top;\n",
              "    }\n",
              "\n",
              "    .dataframe thead th {\n",
              "        text-align: right;\n",
              "    }\n",
              "</style>\n",
              "<table border=\"1\" class=\"dataframe\">\n",
              "  <thead>\n",
              "    <tr style=\"text-align: right;\">\n",
              "      <th></th>\n",
              "      <th>CD_MUN</th>\n",
              "      <th>NM_MUN</th>\n",
              "      <th>SIGLA</th>\n",
              "      <th>REGIAO_MUN</th>\n",
              "      <th>AREA_MUN</th>\n",
              "      <th>Cnuc</th>\n",
              "      <th>NomeUC</th>\n",
              "      <th>REGIAO_UC</th>\n",
              "      <th>AREA_UC</th>\n",
              "      <th>AREA_SOBREP</th>\n",
              "      <th>PERC_SOBREP</th>\n",
              "    </tr>\n",
              "  </thead>\n",
              "  <tbody>\n",
              "    <tr>\n",
              "      <th>0</th>\n",
              "      <td>1100015</td>\n",
              "      <td>Alta Floresta D'Oeste</td>\n",
              "      <td>RO</td>\n",
              "      <td>Norte</td>\n",
              "      <td>0.587657</td>\n",
              "      <td>0000.00.0206</td>\n",
              "      <td>RESERVA BIOLÓGICA DO GUAPORÉ</td>\n",
              "      <td>Norte</td>\n",
              "      <td>0.512162</td>\n",
              "      <td>0.07972</td>\n",
              "      <td>0.135657</td>\n",
              "    </tr>\n",
              "  </tbody>\n",
              "</table>\n",
              "</div>\n",
              "      <button class=\"colab-df-convert\" onclick=\"convertToInteractive('df-d7f573aa-937b-404f-ace4-02f38a13fa94')\"\n",
              "              title=\"Convert this dataframe to an interactive table.\"\n",
              "              style=\"display:none;\">\n",
              "        \n",
              "  <svg xmlns=\"http://www.w3.org/2000/svg\" height=\"24px\"viewBox=\"0 0 24 24\"\n",
              "       width=\"24px\">\n",
              "    <path d=\"M0 0h24v24H0V0z\" fill=\"none\"/>\n",
              "    <path d=\"M18.56 5.44l.94 2.06.94-2.06 2.06-.94-2.06-.94-.94-2.06-.94 2.06-2.06.94zm-11 1L8.5 8.5l.94-2.06 2.06-.94-2.06-.94L8.5 2.5l-.94 2.06-2.06.94zm10 10l.94 2.06.94-2.06 2.06-.94-2.06-.94-.94-2.06-.94 2.06-2.06.94z\"/><path d=\"M17.41 7.96l-1.37-1.37c-.4-.4-.92-.59-1.43-.59-.52 0-1.04.2-1.43.59L10.3 9.45l-7.72 7.72c-.78.78-.78 2.05 0 2.83L4 21.41c.39.39.9.59 1.41.59.51 0 1.02-.2 1.41-.59l7.78-7.78 2.81-2.81c.8-.78.8-2.07 0-2.86zM5.41 20L4 18.59l7.72-7.72 1.47 1.35L5.41 20z\"/>\n",
              "  </svg>\n",
              "      </button>\n",
              "      \n",
              "  <style>\n",
              "    .colab-df-container {\n",
              "      display:flex;\n",
              "      flex-wrap:wrap;\n",
              "      gap: 12px;\n",
              "    }\n",
              "\n",
              "    .colab-df-convert {\n",
              "      background-color: #E8F0FE;\n",
              "      border: none;\n",
              "      border-radius: 50%;\n",
              "      cursor: pointer;\n",
              "      display: none;\n",
              "      fill: #1967D2;\n",
              "      height: 32px;\n",
              "      padding: 0 0 0 0;\n",
              "      width: 32px;\n",
              "    }\n",
              "\n",
              "    .colab-df-convert:hover {\n",
              "      background-color: #E2EBFA;\n",
              "      box-shadow: 0px 1px 2px rgba(60, 64, 67, 0.3), 0px 1px 3px 1px rgba(60, 64, 67, 0.15);\n",
              "      fill: #174EA6;\n",
              "    }\n",
              "\n",
              "    [theme=dark] .colab-df-convert {\n",
              "      background-color: #3B4455;\n",
              "      fill: #D2E3FC;\n",
              "    }\n",
              "\n",
              "    [theme=dark] .colab-df-convert:hover {\n",
              "      background-color: #434B5C;\n",
              "      box-shadow: 0px 1px 3px 1px rgba(0, 0, 0, 0.15);\n",
              "      filter: drop-shadow(0px 1px 2px rgba(0, 0, 0, 0.3));\n",
              "      fill: #FFFFFF;\n",
              "    }\n",
              "  </style>\n",
              "\n",
              "      <script>\n",
              "        const buttonEl =\n",
              "          document.querySelector('#df-d7f573aa-937b-404f-ace4-02f38a13fa94 button.colab-df-convert');\n",
              "        buttonEl.style.display =\n",
              "          google.colab.kernel.accessAllowed ? 'block' : 'none';\n",
              "\n",
              "        async function convertToInteractive(key) {\n",
              "          const element = document.querySelector('#df-d7f573aa-937b-404f-ace4-02f38a13fa94');\n",
              "          const dataTable =\n",
              "            await google.colab.kernel.invokeFunction('convertToInteractive',\n",
              "                                                     [key], {});\n",
              "          if (!dataTable) return;\n",
              "\n",
              "          const docLinkHtml = 'Like what you see? Visit the ' +\n",
              "            '<a target=\"_blank\" href=https://colab.research.google.com/notebooks/data_table.ipynb>data table notebook</a>'\n",
              "            + ' to learn more about interactive tables.';\n",
              "          element.innerHTML = '';\n",
              "          dataTable['output_type'] = 'display_data';\n",
              "          await google.colab.output.renderOutput(dataTable, element);\n",
              "          const docLink = document.createElement('div');\n",
              "          docLink.innerHTML = docLinkHtml;\n",
              "          element.appendChild(docLink);\n",
              "        }\n",
              "      </script>\n",
              "    </div>\n",
              "  </div>\n",
              "  "
            ]
          },
          "metadata": {},
          "execution_count": 16
        }
      ],
      "source": [
        "df3 = df2.copy()\n",
        "for i in range( len(df3) ):\n",
        "  df3.loc[i, 'PERC_SOBREP'] = df3.loc[i, 'AREA_SOBREP']/df3.loc[i, 'AREA_MUN']\n",
        "\n",
        "df3.head(1)"
      ]
    },
    {
      "cell_type": "markdown",
      "metadata": {
        "id": "_5rTEUXZv8En"
      },
      "source": [
        "## Totalizando a Porcentagem da Área de Sobreposição por Município"
      ]
    },
    {
      "cell_type": "code",
      "execution_count": 17,
      "metadata": {
        "colab": {
          "base_uri": "https://localhost:8080/",
          "height": 81
        },
        "id": "vAexpQGwv98N",
        "outputId": "a98321a0-dc95-4648-8452-c4e172fc0544"
      },
      "outputs": [
        {
          "output_type": "execute_result",
          "data": {
            "text/plain": [
              "    CD_MUN  PERC_TOTAL\n",
              "0  1100015    0.135657"
            ],
            "text/html": [
              "\n",
              "  <div id=\"df-d81454e9-e1f0-4dbc-b438-d8cd2ae86c3c\">\n",
              "    <div class=\"colab-df-container\">\n",
              "      <div>\n",
              "<style scoped>\n",
              "    .dataframe tbody tr th:only-of-type {\n",
              "        vertical-align: middle;\n",
              "    }\n",
              "\n",
              "    .dataframe tbody tr th {\n",
              "        vertical-align: top;\n",
              "    }\n",
              "\n",
              "    .dataframe thead th {\n",
              "        text-align: right;\n",
              "    }\n",
              "</style>\n",
              "<table border=\"1\" class=\"dataframe\">\n",
              "  <thead>\n",
              "    <tr style=\"text-align: right;\">\n",
              "      <th></th>\n",
              "      <th>CD_MUN</th>\n",
              "      <th>PERC_TOTAL</th>\n",
              "    </tr>\n",
              "  </thead>\n",
              "  <tbody>\n",
              "    <tr>\n",
              "      <th>0</th>\n",
              "      <td>1100015</td>\n",
              "      <td>0.135657</td>\n",
              "    </tr>\n",
              "  </tbody>\n",
              "</table>\n",
              "</div>\n",
              "      <button class=\"colab-df-convert\" onclick=\"convertToInteractive('df-d81454e9-e1f0-4dbc-b438-d8cd2ae86c3c')\"\n",
              "              title=\"Convert this dataframe to an interactive table.\"\n",
              "              style=\"display:none;\">\n",
              "        \n",
              "  <svg xmlns=\"http://www.w3.org/2000/svg\" height=\"24px\"viewBox=\"0 0 24 24\"\n",
              "       width=\"24px\">\n",
              "    <path d=\"M0 0h24v24H0V0z\" fill=\"none\"/>\n",
              "    <path d=\"M18.56 5.44l.94 2.06.94-2.06 2.06-.94-2.06-.94-.94-2.06-.94 2.06-2.06.94zm-11 1L8.5 8.5l.94-2.06 2.06-.94-2.06-.94L8.5 2.5l-.94 2.06-2.06.94zm10 10l.94 2.06.94-2.06 2.06-.94-2.06-.94-.94-2.06-.94 2.06-2.06.94z\"/><path d=\"M17.41 7.96l-1.37-1.37c-.4-.4-.92-.59-1.43-.59-.52 0-1.04.2-1.43.59L10.3 9.45l-7.72 7.72c-.78.78-.78 2.05 0 2.83L4 21.41c.39.39.9.59 1.41.59.51 0 1.02-.2 1.41-.59l7.78-7.78 2.81-2.81c.8-.78.8-2.07 0-2.86zM5.41 20L4 18.59l7.72-7.72 1.47 1.35L5.41 20z\"/>\n",
              "  </svg>\n",
              "      </button>\n",
              "      \n",
              "  <style>\n",
              "    .colab-df-container {\n",
              "      display:flex;\n",
              "      flex-wrap:wrap;\n",
              "      gap: 12px;\n",
              "    }\n",
              "\n",
              "    .colab-df-convert {\n",
              "      background-color: #E8F0FE;\n",
              "      border: none;\n",
              "      border-radius: 50%;\n",
              "      cursor: pointer;\n",
              "      display: none;\n",
              "      fill: #1967D2;\n",
              "      height: 32px;\n",
              "      padding: 0 0 0 0;\n",
              "      width: 32px;\n",
              "    }\n",
              "\n",
              "    .colab-df-convert:hover {\n",
              "      background-color: #E2EBFA;\n",
              "      box-shadow: 0px 1px 2px rgba(60, 64, 67, 0.3), 0px 1px 3px 1px rgba(60, 64, 67, 0.15);\n",
              "      fill: #174EA6;\n",
              "    }\n",
              "\n",
              "    [theme=dark] .colab-df-convert {\n",
              "      background-color: #3B4455;\n",
              "      fill: #D2E3FC;\n",
              "    }\n",
              "\n",
              "    [theme=dark] .colab-df-convert:hover {\n",
              "      background-color: #434B5C;\n",
              "      box-shadow: 0px 1px 3px 1px rgba(0, 0, 0, 0.15);\n",
              "      filter: drop-shadow(0px 1px 2px rgba(0, 0, 0, 0.3));\n",
              "      fill: #FFFFFF;\n",
              "    }\n",
              "  </style>\n",
              "\n",
              "      <script>\n",
              "        const buttonEl =\n",
              "          document.querySelector('#df-d81454e9-e1f0-4dbc-b438-d8cd2ae86c3c button.colab-df-convert');\n",
              "        buttonEl.style.display =\n",
              "          google.colab.kernel.accessAllowed ? 'block' : 'none';\n",
              "\n",
              "        async function convertToInteractive(key) {\n",
              "          const element = document.querySelector('#df-d81454e9-e1f0-4dbc-b438-d8cd2ae86c3c');\n",
              "          const dataTable =\n",
              "            await google.colab.kernel.invokeFunction('convertToInteractive',\n",
              "                                                     [key], {});\n",
              "          if (!dataTable) return;\n",
              "\n",
              "          const docLinkHtml = 'Like what you see? Visit the ' +\n",
              "            '<a target=\"_blank\" href=https://colab.research.google.com/notebooks/data_table.ipynb>data table notebook</a>'\n",
              "            + ' to learn more about interactive tables.';\n",
              "          element.innerHTML = '';\n",
              "          dataTable['output_type'] = 'display_data';\n",
              "          await google.colab.output.renderOutput(dataTable, element);\n",
              "          const docLink = document.createElement('div');\n",
              "          docLink.innerHTML = docLinkHtml;\n",
              "          element.appendChild(docLink);\n",
              "        }\n",
              "      </script>\n",
              "    </div>\n",
              "  </div>\n",
              "  "
            ]
          },
          "metadata": {},
          "execution_count": 17
        }
      ],
      "source": [
        "df4 = df3.copy()\n",
        "df4 = df4.groupby(['CD_MUN'])['PERC_SOBREP'].sum().reset_index()\n",
        "df4.rename(columns={\"CD_MUN\":\"CD_MUN\",\n",
        "                   \"PERC_SOBREP\":\"PERC_TOTAL\"} ,inplace=True)\n",
        "df4.head(1)"
      ]
    },
    {
      "cell_type": "markdown",
      "metadata": {
        "id": "QIWC-nBiwatn"
      },
      "source": [
        "## Incluindo a Porcentagem Total"
      ]
    },
    {
      "cell_type": "code",
      "execution_count": 18,
      "metadata": {
        "colab": {
          "base_uri": "https://localhost:8080/",
          "height": 381
        },
        "id": "Ep56cAPqwTVl",
        "outputId": "9d8528bb-1b69-4012-835e-3dd1caa8bba3"
      },
      "outputs": [
        {
          "output_type": "execute_result",
          "data": {
            "text/plain": [
              "    CD_MUN                 NM_MUN SIGLA REGIAO_MUN  AREA_MUN          Cnuc  \\\n",
              "0  1100015  Alta Floresta D'Oeste    RO      Norte  0.587657  0000.00.0206   \n",
              "1  1100320  São Miguel do Guaporé    RO      Norte  0.618410  0000.00.0206   \n",
              "2  1100320  São Miguel do Guaporé    RO      Norte  0.618410  0000.00.0163   \n",
              "\n",
              "                            NomeUC REGIAO_UC   AREA_UC  AREA_SOBREP  \\\n",
              "0     RESERVA BIOLÓGICA DO GUAPORÉ     Norte  0.512162     0.079720   \n",
              "1     RESERVA BIOLÓGICA DO GUAPORÉ     Norte  0.512162     0.000263   \n",
              "2  PARQUE NACIONAL DE PACAÁS NOVOS     Norte  0.586492     0.241101   \n",
              "\n",
              "   PERC_SOBREP  PERC_TOTAL  \n",
              "0     0.135657    0.135657  \n",
              "1     0.000425    0.390297  \n",
              "2     0.389872    0.390297  "
            ],
            "text/html": [
              "\n",
              "  <div id=\"df-a3814b70-d6f8-4a24-bf9f-8743aea8aa44\">\n",
              "    <div class=\"colab-df-container\">\n",
              "      <div>\n",
              "<style scoped>\n",
              "    .dataframe tbody tr th:only-of-type {\n",
              "        vertical-align: middle;\n",
              "    }\n",
              "\n",
              "    .dataframe tbody tr th {\n",
              "        vertical-align: top;\n",
              "    }\n",
              "\n",
              "    .dataframe thead th {\n",
              "        text-align: right;\n",
              "    }\n",
              "</style>\n",
              "<table border=\"1\" class=\"dataframe\">\n",
              "  <thead>\n",
              "    <tr style=\"text-align: right;\">\n",
              "      <th></th>\n",
              "      <th>CD_MUN</th>\n",
              "      <th>NM_MUN</th>\n",
              "      <th>SIGLA</th>\n",
              "      <th>REGIAO_MUN</th>\n",
              "      <th>AREA_MUN</th>\n",
              "      <th>Cnuc</th>\n",
              "      <th>NomeUC</th>\n",
              "      <th>REGIAO_UC</th>\n",
              "      <th>AREA_UC</th>\n",
              "      <th>AREA_SOBREP</th>\n",
              "      <th>PERC_SOBREP</th>\n",
              "      <th>PERC_TOTAL</th>\n",
              "    </tr>\n",
              "  </thead>\n",
              "  <tbody>\n",
              "    <tr>\n",
              "      <th>0</th>\n",
              "      <td>1100015</td>\n",
              "      <td>Alta Floresta D'Oeste</td>\n",
              "      <td>RO</td>\n",
              "      <td>Norte</td>\n",
              "      <td>0.587657</td>\n",
              "      <td>0000.00.0206</td>\n",
              "      <td>RESERVA BIOLÓGICA DO GUAPORÉ</td>\n",
              "      <td>Norte</td>\n",
              "      <td>0.512162</td>\n",
              "      <td>0.079720</td>\n",
              "      <td>0.135657</td>\n",
              "      <td>0.135657</td>\n",
              "    </tr>\n",
              "    <tr>\n",
              "      <th>1</th>\n",
              "      <td>1100320</td>\n",
              "      <td>São Miguel do Guaporé</td>\n",
              "      <td>RO</td>\n",
              "      <td>Norte</td>\n",
              "      <td>0.618410</td>\n",
              "      <td>0000.00.0206</td>\n",
              "      <td>RESERVA BIOLÓGICA DO GUAPORÉ</td>\n",
              "      <td>Norte</td>\n",
              "      <td>0.512162</td>\n",
              "      <td>0.000263</td>\n",
              "      <td>0.000425</td>\n",
              "      <td>0.390297</td>\n",
              "    </tr>\n",
              "    <tr>\n",
              "      <th>2</th>\n",
              "      <td>1100320</td>\n",
              "      <td>São Miguel do Guaporé</td>\n",
              "      <td>RO</td>\n",
              "      <td>Norte</td>\n",
              "      <td>0.618410</td>\n",
              "      <td>0000.00.0163</td>\n",
              "      <td>PARQUE NACIONAL DE PACAÁS NOVOS</td>\n",
              "      <td>Norte</td>\n",
              "      <td>0.586492</td>\n",
              "      <td>0.241101</td>\n",
              "      <td>0.389872</td>\n",
              "      <td>0.390297</td>\n",
              "    </tr>\n",
              "  </tbody>\n",
              "</table>\n",
              "</div>\n",
              "      <button class=\"colab-df-convert\" onclick=\"convertToInteractive('df-a3814b70-d6f8-4a24-bf9f-8743aea8aa44')\"\n",
              "              title=\"Convert this dataframe to an interactive table.\"\n",
              "              style=\"display:none;\">\n",
              "        \n",
              "  <svg xmlns=\"http://www.w3.org/2000/svg\" height=\"24px\"viewBox=\"0 0 24 24\"\n",
              "       width=\"24px\">\n",
              "    <path d=\"M0 0h24v24H0V0z\" fill=\"none\"/>\n",
              "    <path d=\"M18.56 5.44l.94 2.06.94-2.06 2.06-.94-2.06-.94-.94-2.06-.94 2.06-2.06.94zm-11 1L8.5 8.5l.94-2.06 2.06-.94-2.06-.94L8.5 2.5l-.94 2.06-2.06.94zm10 10l.94 2.06.94-2.06 2.06-.94-2.06-.94-.94-2.06-.94 2.06-2.06.94z\"/><path d=\"M17.41 7.96l-1.37-1.37c-.4-.4-.92-.59-1.43-.59-.52 0-1.04.2-1.43.59L10.3 9.45l-7.72 7.72c-.78.78-.78 2.05 0 2.83L4 21.41c.39.39.9.59 1.41.59.51 0 1.02-.2 1.41-.59l7.78-7.78 2.81-2.81c.8-.78.8-2.07 0-2.86zM5.41 20L4 18.59l7.72-7.72 1.47 1.35L5.41 20z\"/>\n",
              "  </svg>\n",
              "      </button>\n",
              "      \n",
              "  <style>\n",
              "    .colab-df-container {\n",
              "      display:flex;\n",
              "      flex-wrap:wrap;\n",
              "      gap: 12px;\n",
              "    }\n",
              "\n",
              "    .colab-df-convert {\n",
              "      background-color: #E8F0FE;\n",
              "      border: none;\n",
              "      border-radius: 50%;\n",
              "      cursor: pointer;\n",
              "      display: none;\n",
              "      fill: #1967D2;\n",
              "      height: 32px;\n",
              "      padding: 0 0 0 0;\n",
              "      width: 32px;\n",
              "    }\n",
              "\n",
              "    .colab-df-convert:hover {\n",
              "      background-color: #E2EBFA;\n",
              "      box-shadow: 0px 1px 2px rgba(60, 64, 67, 0.3), 0px 1px 3px 1px rgba(60, 64, 67, 0.15);\n",
              "      fill: #174EA6;\n",
              "    }\n",
              "\n",
              "    [theme=dark] .colab-df-convert {\n",
              "      background-color: #3B4455;\n",
              "      fill: #D2E3FC;\n",
              "    }\n",
              "\n",
              "    [theme=dark] .colab-df-convert:hover {\n",
              "      background-color: #434B5C;\n",
              "      box-shadow: 0px 1px 3px 1px rgba(0, 0, 0, 0.15);\n",
              "      filter: drop-shadow(0px 1px 2px rgba(0, 0, 0, 0.3));\n",
              "      fill: #FFFFFF;\n",
              "    }\n",
              "  </style>\n",
              "\n",
              "      <script>\n",
              "        const buttonEl =\n",
              "          document.querySelector('#df-a3814b70-d6f8-4a24-bf9f-8743aea8aa44 button.colab-df-convert');\n",
              "        buttonEl.style.display =\n",
              "          google.colab.kernel.accessAllowed ? 'block' : 'none';\n",
              "\n",
              "        async function convertToInteractive(key) {\n",
              "          const element = document.querySelector('#df-a3814b70-d6f8-4a24-bf9f-8743aea8aa44');\n",
              "          const dataTable =\n",
              "            await google.colab.kernel.invokeFunction('convertToInteractive',\n",
              "                                                     [key], {});\n",
              "          if (!dataTable) return;\n",
              "\n",
              "          const docLinkHtml = 'Like what you see? Visit the ' +\n",
              "            '<a target=\"_blank\" href=https://colab.research.google.com/notebooks/data_table.ipynb>data table notebook</a>'\n",
              "            + ' to learn more about interactive tables.';\n",
              "          element.innerHTML = '';\n",
              "          dataTable['output_type'] = 'display_data';\n",
              "          await google.colab.output.renderOutput(dataTable, element);\n",
              "          const docLink = document.createElement('div');\n",
              "          docLink.innerHTML = docLinkHtml;\n",
              "          element.appendChild(docLink);\n",
              "        }\n",
              "      </script>\n",
              "    </div>\n",
              "  </div>\n",
              "  "
            ]
          },
          "metadata": {},
          "execution_count": 18
        }
      ],
      "source": [
        "df5 = pd.merge(df3, df4, on='CD_MUN', how='inner')\n",
        "df5.head(3)"
      ]
    },
    {
      "cell_type": "markdown",
      "metadata": {
        "id": "F26Me0_Qwt_u"
      },
      "source": [
        "## Renomeando as colunas"
      ]
    },
    {
      "cell_type": "code",
      "execution_count": 19,
      "metadata": {
        "colab": {
          "base_uri": "https://localhost:8080/",
          "height": 197
        },
        "id": "TYe1Snr7yZju",
        "outputId": "3d7b36b9-36b7-4c73-ebeb-2e6f71dae19b"
      },
      "outputs": [
        {
          "output_type": "execute_result",
          "data": {
            "text/plain": [
              "    CD_MUN                 NM_MUN SIGLA REGIAO_MUN  AREA_MUN          CNUC  \\\n",
              "0  1100015  Alta Floresta D'Oeste    RO      Norte  0.587657  0000.00.0206   \n",
              "\n",
              "                          NM_UC REGIAO_UC   AREA_UC  AREA_SOBREP  PERC_SOBREP  \\\n",
              "0  RESERVA BIOLÓGICA DO GUAPORÉ     Norte  0.512162      0.07972     0.135657   \n",
              "\n",
              "   PERC_TOTAL  \n",
              "0    0.135657  "
            ],
            "text/html": [
              "\n",
              "  <div id=\"df-5ec57a0b-91ee-4bc8-947c-72ee58a56eaf\">\n",
              "    <div class=\"colab-df-container\">\n",
              "      <div>\n",
              "<style scoped>\n",
              "    .dataframe tbody tr th:only-of-type {\n",
              "        vertical-align: middle;\n",
              "    }\n",
              "\n",
              "    .dataframe tbody tr th {\n",
              "        vertical-align: top;\n",
              "    }\n",
              "\n",
              "    .dataframe thead th {\n",
              "        text-align: right;\n",
              "    }\n",
              "</style>\n",
              "<table border=\"1\" class=\"dataframe\">\n",
              "  <thead>\n",
              "    <tr style=\"text-align: right;\">\n",
              "      <th></th>\n",
              "      <th>CD_MUN</th>\n",
              "      <th>NM_MUN</th>\n",
              "      <th>SIGLA</th>\n",
              "      <th>REGIAO_MUN</th>\n",
              "      <th>AREA_MUN</th>\n",
              "      <th>CNUC</th>\n",
              "      <th>NM_UC</th>\n",
              "      <th>REGIAO_UC</th>\n",
              "      <th>AREA_UC</th>\n",
              "      <th>AREA_SOBREP</th>\n",
              "      <th>PERC_SOBREP</th>\n",
              "      <th>PERC_TOTAL</th>\n",
              "    </tr>\n",
              "  </thead>\n",
              "  <tbody>\n",
              "    <tr>\n",
              "      <th>0</th>\n",
              "      <td>1100015</td>\n",
              "      <td>Alta Floresta D'Oeste</td>\n",
              "      <td>RO</td>\n",
              "      <td>Norte</td>\n",
              "      <td>0.587657</td>\n",
              "      <td>0000.00.0206</td>\n",
              "      <td>RESERVA BIOLÓGICA DO GUAPORÉ</td>\n",
              "      <td>Norte</td>\n",
              "      <td>0.512162</td>\n",
              "      <td>0.07972</td>\n",
              "      <td>0.135657</td>\n",
              "      <td>0.135657</td>\n",
              "    </tr>\n",
              "  </tbody>\n",
              "</table>\n",
              "</div>\n",
              "      <button class=\"colab-df-convert\" onclick=\"convertToInteractive('df-5ec57a0b-91ee-4bc8-947c-72ee58a56eaf')\"\n",
              "              title=\"Convert this dataframe to an interactive table.\"\n",
              "              style=\"display:none;\">\n",
              "        \n",
              "  <svg xmlns=\"http://www.w3.org/2000/svg\" height=\"24px\"viewBox=\"0 0 24 24\"\n",
              "       width=\"24px\">\n",
              "    <path d=\"M0 0h24v24H0V0z\" fill=\"none\"/>\n",
              "    <path d=\"M18.56 5.44l.94 2.06.94-2.06 2.06-.94-2.06-.94-.94-2.06-.94 2.06-2.06.94zm-11 1L8.5 8.5l.94-2.06 2.06-.94-2.06-.94L8.5 2.5l-.94 2.06-2.06.94zm10 10l.94 2.06.94-2.06 2.06-.94-2.06-.94-.94-2.06-.94 2.06-2.06.94z\"/><path d=\"M17.41 7.96l-1.37-1.37c-.4-.4-.92-.59-1.43-.59-.52 0-1.04.2-1.43.59L10.3 9.45l-7.72 7.72c-.78.78-.78 2.05 0 2.83L4 21.41c.39.39.9.59 1.41.59.51 0 1.02-.2 1.41-.59l7.78-7.78 2.81-2.81c.8-.78.8-2.07 0-2.86zM5.41 20L4 18.59l7.72-7.72 1.47 1.35L5.41 20z\"/>\n",
              "  </svg>\n",
              "      </button>\n",
              "      \n",
              "  <style>\n",
              "    .colab-df-container {\n",
              "      display:flex;\n",
              "      flex-wrap:wrap;\n",
              "      gap: 12px;\n",
              "    }\n",
              "\n",
              "    .colab-df-convert {\n",
              "      background-color: #E8F0FE;\n",
              "      border: none;\n",
              "      border-radius: 50%;\n",
              "      cursor: pointer;\n",
              "      display: none;\n",
              "      fill: #1967D2;\n",
              "      height: 32px;\n",
              "      padding: 0 0 0 0;\n",
              "      width: 32px;\n",
              "    }\n",
              "\n",
              "    .colab-df-convert:hover {\n",
              "      background-color: #E2EBFA;\n",
              "      box-shadow: 0px 1px 2px rgba(60, 64, 67, 0.3), 0px 1px 3px 1px rgba(60, 64, 67, 0.15);\n",
              "      fill: #174EA6;\n",
              "    }\n",
              "\n",
              "    [theme=dark] .colab-df-convert {\n",
              "      background-color: #3B4455;\n",
              "      fill: #D2E3FC;\n",
              "    }\n",
              "\n",
              "    [theme=dark] .colab-df-convert:hover {\n",
              "      background-color: #434B5C;\n",
              "      box-shadow: 0px 1px 3px 1px rgba(0, 0, 0, 0.15);\n",
              "      filter: drop-shadow(0px 1px 2px rgba(0, 0, 0, 0.3));\n",
              "      fill: #FFFFFF;\n",
              "    }\n",
              "  </style>\n",
              "\n",
              "      <script>\n",
              "        const buttonEl =\n",
              "          document.querySelector('#df-5ec57a0b-91ee-4bc8-947c-72ee58a56eaf button.colab-df-convert');\n",
              "        buttonEl.style.display =\n",
              "          google.colab.kernel.accessAllowed ? 'block' : 'none';\n",
              "\n",
              "        async function convertToInteractive(key) {\n",
              "          const element = document.querySelector('#df-5ec57a0b-91ee-4bc8-947c-72ee58a56eaf');\n",
              "          const dataTable =\n",
              "            await google.colab.kernel.invokeFunction('convertToInteractive',\n",
              "                                                     [key], {});\n",
              "          if (!dataTable) return;\n",
              "\n",
              "          const docLinkHtml = 'Like what you see? Visit the ' +\n",
              "            '<a target=\"_blank\" href=https://colab.research.google.com/notebooks/data_table.ipynb>data table notebook</a>'\n",
              "            + ' to learn more about interactive tables.';\n",
              "          element.innerHTML = '';\n",
              "          dataTable['output_type'] = 'display_data';\n",
              "          await google.colab.output.renderOutput(dataTable, element);\n",
              "          const docLink = document.createElement('div');\n",
              "          docLink.innerHTML = docLinkHtml;\n",
              "          element.appendChild(docLink);\n",
              "        }\n",
              "      </script>\n",
              "    </div>\n",
              "  </div>\n",
              "  "
            ]
          },
          "metadata": {},
          "execution_count": 19
        }
      ],
      "source": [
        "df6 = df5.rename({'Cnuc': 'CNUC', 'NomeUC': 'NM_UC'}, axis=1)\n",
        "df6.head(1)"
      ]
    },
    {
      "cell_type": "markdown",
      "metadata": {
        "id": "O-_6i_RuzWeN"
      },
      "source": [
        "## Salvando o Relatório Final"
      ]
    },
    {
      "cell_type": "code",
      "execution_count": null,
      "metadata": {
        "id": "9xmZykPhwyBe"
      },
      "outputs": [],
      "source": [
        "#df6.to_csv('report_br.csv', index=False)"
      ]
    },
    {
      "cell_type": "markdown",
      "metadata": {
        "id": "4YHebUgKz90Z"
      },
      "source": [
        "## Carregando o Relatório Final"
      ]
    },
    {
      "cell_type": "code",
      "execution_count": 20,
      "metadata": {
        "id": "aw9bNJhAwyRv"
      },
      "outputs": [],
      "source": [
        "df = pd.read_csv( '/content/drive/MyDrive/repos/_Desafios_Tecnicos/2022-09-01_Geopandas/report_br.csv' )"
      ]
    },
    {
      "cell_type": "code",
      "execution_count": null,
      "metadata": {
        "colab": {
          "base_uri": "https://localhost:8080/",
          "height": 197
        },
        "id": "mUCjNhYOKh2T",
        "outputId": "8d5cd972-64c5-453b-a094-21eb8d8788c9"
      },
      "outputs": [
        {
          "data": {
            "text/html": [
              "\n",
              "  <div id=\"df-61546719-0c2c-4646-88f2-02af5a909c62\">\n",
              "    <div class=\"colab-df-container\">\n",
              "      <div>\n",
              "<style scoped>\n",
              "    .dataframe tbody tr th:only-of-type {\n",
              "        vertical-align: middle;\n",
              "    }\n",
              "\n",
              "    .dataframe tbody tr th {\n",
              "        vertical-align: top;\n",
              "    }\n",
              "\n",
              "    .dataframe thead th {\n",
              "        text-align: right;\n",
              "    }\n",
              "</style>\n",
              "<table border=\"1\" class=\"dataframe\">\n",
              "  <thead>\n",
              "    <tr style=\"text-align: right;\">\n",
              "      <th></th>\n",
              "      <th>CD_MUN</th>\n",
              "      <th>NM_MUN</th>\n",
              "      <th>SIGLA</th>\n",
              "      <th>REGIAO_MUN</th>\n",
              "      <th>AREA_MUN</th>\n",
              "      <th>CNUC</th>\n",
              "      <th>NM_UC</th>\n",
              "      <th>REGIAO_UC</th>\n",
              "      <th>AREA_UC</th>\n",
              "      <th>AREA_SOBREP</th>\n",
              "      <th>PERC_SOBREP</th>\n",
              "      <th>PERC_TOTAL</th>\n",
              "    </tr>\n",
              "  </thead>\n",
              "  <tbody>\n",
              "    <tr>\n",
              "      <th>0</th>\n",
              "      <td>1100015</td>\n",
              "      <td>Alta Floresta D'Oeste</td>\n",
              "      <td>RO</td>\n",
              "      <td>Norte</td>\n",
              "      <td>0.587657</td>\n",
              "      <td>0000.00.0206</td>\n",
              "      <td>RESERVA BIOLÓGICA DO GUAPORÉ</td>\n",
              "      <td>Norte</td>\n",
              "      <td>0.512162</td>\n",
              "      <td>0.07972</td>\n",
              "      <td>0.135657</td>\n",
              "      <td>0.135657</td>\n",
              "    </tr>\n",
              "  </tbody>\n",
              "</table>\n",
              "</div>\n",
              "      <button class=\"colab-df-convert\" onclick=\"convertToInteractive('df-61546719-0c2c-4646-88f2-02af5a909c62')\"\n",
              "              title=\"Convert this dataframe to an interactive table.\"\n",
              "              style=\"display:none;\">\n",
              "        \n",
              "  <svg xmlns=\"http://www.w3.org/2000/svg\" height=\"24px\"viewBox=\"0 0 24 24\"\n",
              "       width=\"24px\">\n",
              "    <path d=\"M0 0h24v24H0V0z\" fill=\"none\"/>\n",
              "    <path d=\"M18.56 5.44l.94 2.06.94-2.06 2.06-.94-2.06-.94-.94-2.06-.94 2.06-2.06.94zm-11 1L8.5 8.5l.94-2.06 2.06-.94-2.06-.94L8.5 2.5l-.94 2.06-2.06.94zm10 10l.94 2.06.94-2.06 2.06-.94-2.06-.94-.94-2.06-.94 2.06-2.06.94z\"/><path d=\"M17.41 7.96l-1.37-1.37c-.4-.4-.92-.59-1.43-.59-.52 0-1.04.2-1.43.59L10.3 9.45l-7.72 7.72c-.78.78-.78 2.05 0 2.83L4 21.41c.39.39.9.59 1.41.59.51 0 1.02-.2 1.41-.59l7.78-7.78 2.81-2.81c.8-.78.8-2.07 0-2.86zM5.41 20L4 18.59l7.72-7.72 1.47 1.35L5.41 20z\"/>\n",
              "  </svg>\n",
              "      </button>\n",
              "      \n",
              "  <style>\n",
              "    .colab-df-container {\n",
              "      display:flex;\n",
              "      flex-wrap:wrap;\n",
              "      gap: 12px;\n",
              "    }\n",
              "\n",
              "    .colab-df-convert {\n",
              "      background-color: #E8F0FE;\n",
              "      border: none;\n",
              "      border-radius: 50%;\n",
              "      cursor: pointer;\n",
              "      display: none;\n",
              "      fill: #1967D2;\n",
              "      height: 32px;\n",
              "      padding: 0 0 0 0;\n",
              "      width: 32px;\n",
              "    }\n",
              "\n",
              "    .colab-df-convert:hover {\n",
              "      background-color: #E2EBFA;\n",
              "      box-shadow: 0px 1px 2px rgba(60, 64, 67, 0.3), 0px 1px 3px 1px rgba(60, 64, 67, 0.15);\n",
              "      fill: #174EA6;\n",
              "    }\n",
              "\n",
              "    [theme=dark] .colab-df-convert {\n",
              "      background-color: #3B4455;\n",
              "      fill: #D2E3FC;\n",
              "    }\n",
              "\n",
              "    [theme=dark] .colab-df-convert:hover {\n",
              "      background-color: #434B5C;\n",
              "      box-shadow: 0px 1px 3px 1px rgba(0, 0, 0, 0.15);\n",
              "      filter: drop-shadow(0px 1px 2px rgba(0, 0, 0, 0.3));\n",
              "      fill: #FFFFFF;\n",
              "    }\n",
              "  </style>\n",
              "\n",
              "      <script>\n",
              "        const buttonEl =\n",
              "          document.querySelector('#df-61546719-0c2c-4646-88f2-02af5a909c62 button.colab-df-convert');\n",
              "        buttonEl.style.display =\n",
              "          google.colab.kernel.accessAllowed ? 'block' : 'none';\n",
              "\n",
              "        async function convertToInteractive(key) {\n",
              "          const element = document.querySelector('#df-61546719-0c2c-4646-88f2-02af5a909c62');\n",
              "          const dataTable =\n",
              "            await google.colab.kernel.invokeFunction('convertToInteractive',\n",
              "                                                     [key], {});\n",
              "          if (!dataTable) return;\n",
              "\n",
              "          const docLinkHtml = 'Like what you see? Visit the ' +\n",
              "            '<a target=\"_blank\" href=https://colab.research.google.com/notebooks/data_table.ipynb>data table notebook</a>'\n",
              "            + ' to learn more about interactive tables.';\n",
              "          element.innerHTML = '';\n",
              "          dataTable['output_type'] = 'display_data';\n",
              "          await google.colab.output.renderOutput(dataTable, element);\n",
              "          const docLink = document.createElement('div');\n",
              "          docLink.innerHTML = docLinkHtml;\n",
              "          element.appendChild(docLink);\n",
              "        }\n",
              "      </script>\n",
              "    </div>\n",
              "  </div>\n",
              "  "
            ],
            "text/plain": [
              "    CD_MUN                 NM_MUN SIGLA REGIAO_MUN  AREA_MUN          CNUC  \\\n",
              "0  1100015  Alta Floresta D'Oeste    RO      Norte  0.587657  0000.00.0206   \n",
              "\n",
              "                          NM_UC REGIAO_UC   AREA_UC  AREA_SOBREP  PERC_SOBREP  \\\n",
              "0  RESERVA BIOLÓGICA DO GUAPORÉ     Norte  0.512162      0.07972     0.135657   \n",
              "\n",
              "   PERC_TOTAL  \n",
              "0    0.135657  "
            ]
          },
          "execution_count": 23,
          "metadata": {},
          "output_type": "execute_result"
        }
      ],
      "source": [
        "df.head(1)"
      ]
    },
    {
      "cell_type": "markdown",
      "source": [
        "# Analisando os Municípios que fazem intersecção com Unidades de Conservação"
      ],
      "metadata": {
        "id": "WrzmO6hrJL4B"
      }
    },
    {
      "cell_type": "code",
      "source": [
        "df_mun_uc = df.groupby(['CD_MUN', 'NM_MUN', 'REGIAO_MUN', 'AREA_MUN'])['AREA_SOBREP'].sum().reset_index()\n",
        "df_mun_uc.head(1)"
      ],
      "metadata": {
        "colab": {
          "base_uri": "https://localhost:8080/",
          "height": 81
        },
        "id": "nd65cjHUJTIt",
        "outputId": "da3f57d5-a4ea-4020-cf3f-ad8bedf300e6"
      },
      "execution_count": 21,
      "outputs": [
        {
          "output_type": "execute_result",
          "data": {
            "text/plain": [
              "    CD_MUN                 NM_MUN REGIAO_MUN  AREA_MUN  AREA_SOBREP\n",
              "0  1100015  Alta Floresta D'Oeste      Norte  0.587657      0.07972"
            ],
            "text/html": [
              "\n",
              "  <div id=\"df-d935d9ee-bfaa-4fb0-8234-27e4043caab2\">\n",
              "    <div class=\"colab-df-container\">\n",
              "      <div>\n",
              "<style scoped>\n",
              "    .dataframe tbody tr th:only-of-type {\n",
              "        vertical-align: middle;\n",
              "    }\n",
              "\n",
              "    .dataframe tbody tr th {\n",
              "        vertical-align: top;\n",
              "    }\n",
              "\n",
              "    .dataframe thead th {\n",
              "        text-align: right;\n",
              "    }\n",
              "</style>\n",
              "<table border=\"1\" class=\"dataframe\">\n",
              "  <thead>\n",
              "    <tr style=\"text-align: right;\">\n",
              "      <th></th>\n",
              "      <th>CD_MUN</th>\n",
              "      <th>NM_MUN</th>\n",
              "      <th>REGIAO_MUN</th>\n",
              "      <th>AREA_MUN</th>\n",
              "      <th>AREA_SOBREP</th>\n",
              "    </tr>\n",
              "  </thead>\n",
              "  <tbody>\n",
              "    <tr>\n",
              "      <th>0</th>\n",
              "      <td>1100015</td>\n",
              "      <td>Alta Floresta D'Oeste</td>\n",
              "      <td>Norte</td>\n",
              "      <td>0.587657</td>\n",
              "      <td>0.07972</td>\n",
              "    </tr>\n",
              "  </tbody>\n",
              "</table>\n",
              "</div>\n",
              "      <button class=\"colab-df-convert\" onclick=\"convertToInteractive('df-d935d9ee-bfaa-4fb0-8234-27e4043caab2')\"\n",
              "              title=\"Convert this dataframe to an interactive table.\"\n",
              "              style=\"display:none;\">\n",
              "        \n",
              "  <svg xmlns=\"http://www.w3.org/2000/svg\" height=\"24px\"viewBox=\"0 0 24 24\"\n",
              "       width=\"24px\">\n",
              "    <path d=\"M0 0h24v24H0V0z\" fill=\"none\"/>\n",
              "    <path d=\"M18.56 5.44l.94 2.06.94-2.06 2.06-.94-2.06-.94-.94-2.06-.94 2.06-2.06.94zm-11 1L8.5 8.5l.94-2.06 2.06-.94-2.06-.94L8.5 2.5l-.94 2.06-2.06.94zm10 10l.94 2.06.94-2.06 2.06-.94-2.06-.94-.94-2.06-.94 2.06-2.06.94z\"/><path d=\"M17.41 7.96l-1.37-1.37c-.4-.4-.92-.59-1.43-.59-.52 0-1.04.2-1.43.59L10.3 9.45l-7.72 7.72c-.78.78-.78 2.05 0 2.83L4 21.41c.39.39.9.59 1.41.59.51 0 1.02-.2 1.41-.59l7.78-7.78 2.81-2.81c.8-.78.8-2.07 0-2.86zM5.41 20L4 18.59l7.72-7.72 1.47 1.35L5.41 20z\"/>\n",
              "  </svg>\n",
              "      </button>\n",
              "      \n",
              "  <style>\n",
              "    .colab-df-container {\n",
              "      display:flex;\n",
              "      flex-wrap:wrap;\n",
              "      gap: 12px;\n",
              "    }\n",
              "\n",
              "    .colab-df-convert {\n",
              "      background-color: #E8F0FE;\n",
              "      border: none;\n",
              "      border-radius: 50%;\n",
              "      cursor: pointer;\n",
              "      display: none;\n",
              "      fill: #1967D2;\n",
              "      height: 32px;\n",
              "      padding: 0 0 0 0;\n",
              "      width: 32px;\n",
              "    }\n",
              "\n",
              "    .colab-df-convert:hover {\n",
              "      background-color: #E2EBFA;\n",
              "      box-shadow: 0px 1px 2px rgba(60, 64, 67, 0.3), 0px 1px 3px 1px rgba(60, 64, 67, 0.15);\n",
              "      fill: #174EA6;\n",
              "    }\n",
              "\n",
              "    [theme=dark] .colab-df-convert {\n",
              "      background-color: #3B4455;\n",
              "      fill: #D2E3FC;\n",
              "    }\n",
              "\n",
              "    [theme=dark] .colab-df-convert:hover {\n",
              "      background-color: #434B5C;\n",
              "      box-shadow: 0px 1px 3px 1px rgba(0, 0, 0, 0.15);\n",
              "      filter: drop-shadow(0px 1px 2px rgba(0, 0, 0, 0.3));\n",
              "      fill: #FFFFFF;\n",
              "    }\n",
              "  </style>\n",
              "\n",
              "      <script>\n",
              "        const buttonEl =\n",
              "          document.querySelector('#df-d935d9ee-bfaa-4fb0-8234-27e4043caab2 button.colab-df-convert');\n",
              "        buttonEl.style.display =\n",
              "          google.colab.kernel.accessAllowed ? 'block' : 'none';\n",
              "\n",
              "        async function convertToInteractive(key) {\n",
              "          const element = document.querySelector('#df-d935d9ee-bfaa-4fb0-8234-27e4043caab2');\n",
              "          const dataTable =\n",
              "            await google.colab.kernel.invokeFunction('convertToInteractive',\n",
              "                                                     [key], {});\n",
              "          if (!dataTable) return;\n",
              "\n",
              "          const docLinkHtml = 'Like what you see? Visit the ' +\n",
              "            '<a target=\"_blank\" href=https://colab.research.google.com/notebooks/data_table.ipynb>data table notebook</a>'\n",
              "            + ' to learn more about interactive tables.';\n",
              "          element.innerHTML = '';\n",
              "          dataTable['output_type'] = 'display_data';\n",
              "          await google.colab.output.renderOutput(dataTable, element);\n",
              "          const docLink = document.createElement('div');\n",
              "          docLink.innerHTML = docLinkHtml;\n",
              "          element.appendChild(docLink);\n",
              "        }\n",
              "      </script>\n",
              "    </div>\n",
              "  </div>\n",
              "  "
            ]
          },
          "metadata": {},
          "execution_count": 21
        }
      ]
    },
    {
      "cell_type": "code",
      "source": [
        "total_area_mun_uc_reg = df_mun_uc.groupby(['REGIAO_MUN'])['AREA_MUN'].sum().sort_values(ascending=False)\n",
        "total_area_mun_uc_reg"
      ],
      "metadata": {
        "colab": {
          "base_uri": "https://localhost:8080/",
          "height": 0
        },
        "id": "UTNlc1r1JkeB",
        "outputId": "b2601d01-6aa6-4a1c-fafe-3188c065c86f"
      },
      "execution_count": 72,
      "outputs": [
        {
          "output_type": "execute_result",
          "data": {
            "text/plain": [
              "REGIAO_MUN\n",
              "Norte           227.891444\n",
              "Nordeste         31.455449\n",
              "Centro-Oeste     31.357778\n",
              "Sudeste          13.179497\n",
              "Sul               8.987779\n",
              "Name: AREA_MUN, dtype: float64"
            ]
          },
          "metadata": {},
          "execution_count": 72
        }
      ]
    },
    {
      "cell_type": "code",
      "source": [
        "total_cont_mun_uc_reg = df_mun_uc.groupby(['REGIAO_MUN'])['AREA_MUN'].count().sort_values(ascending=False)\n",
        "total_cont_mun_uc_reg"
      ],
      "metadata": {
        "colab": {
          "base_uri": "https://localhost:8080/",
          "height": 0
        },
        "id": "ol4DuPNvKXVo",
        "outputId": "7dc1398d-516a-47cc-909f-a7f876d96b70"
      },
      "execution_count": 63,
      "outputs": [
        {
          "output_type": "execute_result",
          "data": {
            "text/plain": [
              "REGIAO_MUN\n",
              "Nordeste        253\n",
              "Sudeste         202\n",
              "Norte           160\n",
              "Sul             105\n",
              "Centro-Oeste     61\n",
              "Name: AREA_MUN, dtype: int64"
            ]
          },
          "metadata": {},
          "execution_count": 63
        }
      ]
    },
    {
      "cell_type": "markdown",
      "metadata": {
        "id": "0Iv-pRBv1Fb3"
      },
      "source": [
        "## Plotando Gráficos"
      ]
    },
    {
      "cell_type": "code",
      "source": [
        "ax = plt.subplots(figsize=(15,6))\n",
        "\n",
        "ax = sns.barplot( x=data_ibge[\"REGIAO_MUN\"], y=data_ibge[\"AREA_MUN\"], color='w',\n",
        "                   edgecolor='black', lw=2,\n",
        "                   ci=None,\n",
        "                   estimator=sum,\n",
        "                   order=['Norte','Centro-Oeste','Nordeste','Sudeste','Sul'])\n",
        "\n",
        "\n",
        "ax = sns.barplot( x=df_mun_uc[\"REGIAO_MUN\"], y=df_mun_uc[\"AREA_MUN\"], color='b',\n",
        "                   edgecolor='black', lw=1,\n",
        "                   ci=None,\n",
        "                   estimator=sum,\n",
        "                   order=['Norte','Centro-Oeste','Nordeste','Sudeste','Sul'])\n",
        "\n",
        "\n",
        "ax = sns.barplot( x=df[\"REGIAO_MUN\"], y=df[\"AREA_SOBREP\"], color='g',\n",
        "                   ci=None,\n",
        "                   estimator=sum,\n",
        "                   order=['Norte','Centro-Oeste','Nordeste','Sudeste','Sul'])\n",
        "\n",
        "plt.title(\"Áreas Municípios x Sobreposição \", size=15)\n",
        "plt.xlabel(\"Região\", size=15)\n",
        "plt.ylabel(\"Soma Áreas\", size=15)\n",
        "\n",
        "plt.show();"
      ],
      "metadata": {
        "colab": {
          "base_uri": "https://localhost:8080/",
          "height": 414
        },
        "id": "Ev-wrql7yRom",
        "outputId": "7c803a9f-fb46-4ecf-8a71-369a3d4214b8"
      },
      "execution_count": 54,
      "outputs": [
        {
          "output_type": "display_data",
          "data": {
            "text/plain": [
              "<Figure size 1080x432 with 1 Axes>"
            ],
            "image/png": "[encoded data removed]"
          },
          "metadata": {
            "needs_background": "light"
          }
        }
      ]
    },
    {
      "cell_type": "code",
      "source": [
        "# Barra Branca = Soma das áreas dos municípios\n",
        "# Barra Azul = Soma das áreas dos municípios que fazem intersecção com unidades de conservação\n",
        "# Barra Verde = Soma das áreas de sobreposição"
      ],
      "metadata": {
        "id": "nOhduXiyyiQs"
      },
      "execution_count": null,
      "outputs": []
    }
  ],
  "metadata": {
    "colab": {
      "toc_visible": true,
      "provenance": []
    },
    "kernelspec": {
      "display_name": "Python 3 (ipykernel)",
      "language": "python",
      "name": "python3"
    },
    "language_info": {
      "codemirror_mode": {
        "name": "ipython",
        "version": 3
      },
      "file_extension": ".py",
      "mimetype": "text/x-python",
      "name": "python",
      "nbconvert_exporter": "python",
      "pygments_lexer": "ipython3",
      "version": "3.8.13"
    },
    "toc": {
      "base_numbering": 1,
      "nav_menu": {},
      "number_sections": true,
      "sideBar": true,
      "skip_h1_title": false,
      "title_cell": "Table of Contents",
      "title_sidebar": "Contents",
      "toc_cell": false,
      "toc_position": {
        "height": "calc(100% - 180px)",
        "left": "10px",
        "top": "150px",
        "width": "319.188px"
      },
      "toc_section_display": true,
      "toc_window_display": true
    }
  },
  "nbformat": 4,
  "nbformat_minor": 0
}